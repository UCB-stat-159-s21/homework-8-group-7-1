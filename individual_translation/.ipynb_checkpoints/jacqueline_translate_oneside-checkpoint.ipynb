{
 "cells": [
  {
   "cell_type": "code",
   "execution_count": 2,
   "metadata": {},
   "outputs": [],
   "source": [
    "import numpy as np\n",
    "import scipy.special\n",
    "import pandas as pd\n",
    "import math\n",
    "from itertools import combinations\n",
    "from itertools import filterfalse\n",
    "import math\n",
    "import sys\n",
    "sys.path.append('./cibin_folder')\n",
    "from cibin import *\n",
    "from onesided import *\n",
    "from sterne import *"
   ]
  },
  {
   "cell_type": "code",
   "execution_count": 3,
   "metadata": {},
   "outputs": [],
   "source": [
    "n11 = 4\n",
    "n01 = 3\n",
    "n00 = 2\n",
    "n10 = 1\n",
    "m = n10 + n11\n",
    "n = n11 + n01 + n00 + n10\n",
    "N11 = 3\n",
    "Z_all = nchoosem(n, m)\n",
    "tau_obs = n11/m - n01/(n-m)"
   ]
  },
  {
   "cell_type": "code",
   "execution_count": 4,
   "metadata": {},
   "outputs": [
    {
     "data": {
      "text/plain": [
       "0.18253968253968253"
      ]
     },
     "execution_count": 4,
     "metadata": {},
     "output_type": "execute_result"
    }
   ],
   "source": [
    "pval_one_lower(n, m, np.array([1,2,3,4]), Z_all, tau_obs)"
   ]
  },
  {
   "cell_type": "code",
   "execution_count": 5,
   "metadata": {},
   "outputs": [
    {
     "data": {
      "text/plain": [
       "{'tau_min': -0.2, 'N_accept': array([3., 1., 3., 3.])}"
      ]
     },
     "execution_count": 5,
     "metadata": {},
     "output_type": "execute_result"
    }
   ],
   "source": [
    "tau_lower_N11_oneside(n11, n10, n01, n00, N11, Z_all, .05)"
   ]
  },
  {
   "cell_type": "code",
   "execution_count": 6,
   "metadata": {},
   "outputs": [
    {
     "data": {
      "text/plain": [
       "{'tau_lower': -0.3, 'tau_upper': 0.6, 'N_accept': array([4., 0., 3., 3.])}"
      ]
     },
     "execution_count": 6,
     "metadata": {},
     "output_type": "execute_result"
    }
   ],
   "source": [
    "tau_lower_oneside(n11, n10, n01, n00, 0.05, 10**5)"
   ]
  },
  {
   "cell_type": "code",
   "execution_count": null,
   "metadata": {},
   "outputs": [],
   "source": []
  }
 ],
 "metadata": {
  "kernelspec": {
   "display_name": "Python 3",
   "language": "python",
   "name": "python3"
  },
  "language_info": {
   "codemirror_mode": {
    "name": "ipython",
    "version": 3
   },
   "file_extension": ".py",
   "mimetype": "text/x-python",
   "name": "python",
   "nbconvert_exporter": "python",
   "pygments_lexer": "ipython3",
   "version": "3.8.8"
  }
 },
 "nbformat": 4,
 "nbformat_minor": 4
}
