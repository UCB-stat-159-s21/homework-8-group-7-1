{
 "cells": [
  {
   "cell_type": "code",
   "execution_count": 15,
   "metadata": {},
   "outputs": [],
   "source": [
    "import numpy as np\n",
    "import math\n",
    "from itertools import combinations\n",
    "from scipy.special import comb"
   ]
  },
  {
   "cell_type": "code",
   "execution_count": 54,
   "metadata": {},
   "outputs": [],
   "source": [
    "def nchoosem(n, m): #(3,5)\n",
    "    c = comb(m, n, exact=True) #int; number of combinations\n",
    "    Z = np.zeros((c,m), dtype=int) #empty matrix\n",
    "    combos = list(combinations(np.arange(1,m+1), n)) #list of combinations, trt will be the matrix\n",
    "    \n",
    "    trt = np.zeros((c,n), dtype=int)\n",
    "    \n",
    "    #creating matrix of combinations\n",
    "    for i in np.arange(0,c):\n",
    "        trt[i,] = combos[i]\n",
    "    \n",
    "    for j in np.arange(0,c):\n",
    "        for k in trt[j,]:\n",
    "            Z[j,k-1] = 1\n",
    "    \n",
    "    return Z"
   ]
  },
  {
   "cell_type": "code",
   "execution_count": 9,
   "metadata": {},
   "outputs": [],
   "source": [
    "def tau_twoside_lower(n11, n10, n01, n00, alpha, Z_all):\n",
    "    n = n11+n10+n01+n00\n",
    "    m = n11+n10\n",
    "    tau_obs = n11/m - n01/(n-m)\n",
    "    ntau_obs = n*n11/m - n* n01/(n-m)\n",
    "    tau_min = math.inf\n",
    "    tau_max = -math.inf\n",
    "    N_accept_min = np.nan\n",
    "    N_accept_max = np.nan\n",
    "    rand_test_total = 0\n",
    "    \n",
    "    for N11 in np.arange(0, min((n11+n01), n+ntau_obs)):\n",
    "        tau_min_N11 = tau_lower_N11_twoside(n11, n10, n01, n00, N11, Z_all, alpha)\n",
    "        # assumes that tau_lower_N11_twoside output is a dictionary\n",
    "        rand_test_total = rand_test_total + tau_min_N11[\"rand_test_num\"] \n",
    "        if(tau_min_N11[\"tau_min\"] < tau_min):\n",
    "            N_accept_min = tau_min_N11[\"N_accept_min\"]\n",
    "        if(tau_min_N11[\"tau_max\"] > tau_max):\n",
    "            N_accept_max = tau_min_N11[\"N_accept_max\"]\n",
    "        tau_min = min(tau_min, tau_min_N11[\"tau_min\"])\n",
    "        tau_max = max(tau_max, tau_min_N11[\"tau_max\"])\n",
    "    \n",
    "    tau_lower = tau_min\n",
    "    tau_upper = tau_max\n",
    "    N_accept_lower = N_accept_min\n",
    "    N_accept_upper = N_accept_max \n",
    "                      \n",
    "    dict_output = {'tau_lower':tau_lower, 'N_accept_lower':N_accept_lower, \n",
    "                   'tau_upper':tau_upper, 'N_accept_upper':N_accept_upper,\n",
    "                  'rand_test_total':rand_test_total}\n",
    "    return dict_output"
   ]
  }
 ],
 "metadata": {
  "kernelspec": {
   "display_name": "Python 3",
   "language": "python",
   "name": "python3"
  },
  "language_info": {
   "codemirror_mode": {
    "name": "ipython",
    "version": 3
   },
   "file_extension": ".py",
   "mimetype": "text/x-python",
   "name": "python",
   "nbconvert_exporter": "python",
   "pygments_lexer": "ipython3",
   "version": "3.8.8"
  }
 },
 "nbformat": 4,
 "nbformat_minor": 4
}
