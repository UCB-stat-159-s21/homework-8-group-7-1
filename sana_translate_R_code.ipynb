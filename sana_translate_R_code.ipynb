{
 "cells": [
  {
   "cell_type": "code",
   "execution_count": 2,
   "metadata": {},
   "outputs": [],
   "source": [
    "import numpy as np\n",
    "import math"
   ]
  },
  {
   "cell_type": "code",
   "execution_count": null,
   "metadata": {},
   "outputs": [],
   "source": [
    "# Original R code for nchoosem:\n",
    "# Permutation of O(n^4)\n",
    "# Exact re-randomization matrix for small n choose m\n",
    "library('gtools')\n",
    "nchoosem = function(n,m) {\n",
    "    c = choose(n,m)\n",
    "    trt = combinations(n,m)\n",
    "    Z = matrix(NA,c,n)\n",
    "    for (i in 1:c) {\n",
    "        Z[i,trt[i,]] = 1\n",
    "        Z[i,-trt[i,]] = 0\n",
    "    }\n",
    "    return(Z)\n",
    "}"
   ]
  },
  {
   "cell_type": "code",
   "execution_count": null,
   "metadata": {},
   "outputs": [],
   "source": [
    "# Original R code for tau_twoside_lower:\n",
    "tau_twoside_lower <- function(n11, n10, n01, n00, alpha, Z_all){\n",
    "  n = n11+n10+n01+n00\n",
    "  m = n11+n10\n",
    "  #if(choose(n,m)<=nperm){\n",
    "  #  Z_all = nchoosem(n,m)\n",
    "  #}else{\n",
    "  #  Z_all = comb(n, m, nperm)\n",
    "  #}\n",
    "  tau_obs = n11/m - n01/(n-m)\n",
    "  ntau_obs = n*n11/m - n* n01/(n-m)\n",
    "  tau_min = Inf\n",
    "  tau_max = -Inf\n",
    "  N_accept_min = NA\n",
    "  N_accept_max = NA\n",
    "  ### counting number of randomization test\n",
    "  rand_test_total = 0\n",
    "  \n",
    "  for(N11 in 0:min((n11+n01), n+ntau_obs)){\n",
    "    tau_min_N11 = tau_lower_N11_twoside(n11, n10, n01, n00, N11, Z_all, alpha)\n",
    "    rand_test_total = rand_test_total + tau_min_N11$rand_test_num\n",
    "    if(tau_min_N11$tau_min < tau_min){\n",
    "      N_accept_min = tau_min_N11$N_accept_min\n",
    "    }\n",
    "    if(tau_min_N11$tau_max > tau_max){\n",
    "      N_accept_max = tau_min_N11$N_accept_max\n",
    "    }\n",
    "    tau_min = min(tau_min, tau_min_N11$tau_min)\n",
    "    tau_max = max(tau_max, tau_min_N11$tau_max)\n",
    "  }\n",
    "  tau_lower = tau_min\n",
    "  tau_upper = tau_max\n",
    "  N_accept_lower = N_accept_min\n",
    "  N_accept_upper = N_accept_max\n",
    "  return(list(tau_lower = tau_lower, N_accept_lower= N_accept_lower, \n",
    "              tau_upper = tau_upper, N_accept_upper = N_accept_upper,\n",
    "              rand_test_total=rand_test_total))\n",
    "}"
   ]
  },
  {
   "cell_type": "code",
   "execution_count": 9,
   "metadata": {},
   "outputs": [],
   "source": [
    "def tau_twoside_lower(n11, n10, n01, n00, alpha, Z_all):\n",
    "    n = n11+n10+n01+n00\n",
    "    m = n11+n10\n",
    "    tau_obs = n11/m - n01/(n-m)\n",
    "    ntau_obs = n*n11/m - n* n01/(n-m)\n",
    "    tau_min = math.inf\n",
    "    tau_max = -math.inf\n",
    "    N_accept_min = np.nan\n",
    "    N_accept_max = np.nan\n",
    "    rand_test_total = 0\n",
    "    \n",
    "    for N11 in np.arange(0, min((n11+n01), n+ntau_obs)):\n",
    "        tau_min_N11 = tau_lower_N11_twoside(n11, n10, n01, n00, N11, Z_all, alpha)\n",
    "        # assumes that tau_lower_N11_twoside output is a dictionary\n",
    "        rand_test_total = rand_test_total + tau_min_N11[\"rand_test_num\"] \n",
    "        if(tau_min_N11[\"tau_min\"] < tau_min):\n",
    "            N_accept_min = tau_min_N11[\"N_accept_min\"]\n",
    "        if(tau_min_N11[\"tau_max\"] > tau_max):\n",
    "            N_accept_max = tau_min_N11[\"N_accept_max\"]\n",
    "        tau_min = min(tau_min, tau_min_N11[\"tau_min\"])\n",
    "        tau_max = max(tau_max, tau_min_N11[\"tau_max\"])\n",
    "    \n",
    "    tau_lower = tau_min\n",
    "    tau_upper = tau_max\n",
    "    N_accept_lower = N_accept_min\n",
    "    N_accept_upper = N_accept_max \n",
    "                      \n",
    "    dict_output = {'tau_lower':tau_lower, 'N_accept_lower':N_accept_lower, \n",
    "                   'tau_upper':tau_upper, 'N_accept_upper':N_accept_upper,\n",
    "                  'rand_test_total':rand_test_total}\n",
    "    return dict_output"
   ]
  },
  {
   "cell_type": "code",
   "execution_count": null,
   "metadata": {},
   "outputs": [],
   "source": []
  }
 ],
 "metadata": {
  "kernelspec": {
   "display_name": "Python 3",
   "language": "python",
   "name": "python3"
  },
  "language_info": {
   "codemirror_mode": {
    "name": "ipython",
    "version": 3
   },
   "file_extension": ".py",
   "mimetype": "text/x-python",
   "name": "python",
   "nbconvert_exporter": "python",
   "pygments_lexer": "ipython3",
   "version": "3.8.8"
  }
 },
 "nbformat": 4,
 "nbformat_minor": 4
}
