{
 "cells": [
  {
   "cell_type": "code",
   "execution_count": 15,
   "metadata": {},
   "outputs": [],
   "source": [
    "import numpy as np\n",
    "import math\n",
    "from itertools import combinations\n",
    "from scipy.special import comb"
   ]
  },
  {
   "cell_type": "code",
   "execution_count": null,
   "metadata": {},
   "outputs": [],
   "source": [
    "# Original R code for nchoosem:\n",
    "# Permutation of O(n^4)\n",
    "# Exact re-randomization matrix for small n choose m\n",
    "library('gtools')\n",
    "nchoosem = function(n,m) {\n",
    "    c = choose(n,m)\n",
    "    trt = combinations(n,m)\n",
    "    Z = matrix(NA,c,n)\n",
    "    for (i in 1:c) {\n",
    "        Z[i,trt[i,]] = 1\n",
    "        Z[i,-trt[i,]] = 0\n",
    "    }\n",
    "    return(Z)\n",
    "}"
   ]
  },
  {
   "cell_type": "code",
   "execution_count": 74,
   "metadata": {},
   "outputs": [],
   "source": [
    "def nchoosem(n, m): #(3,5)\n",
    "    c = comb(m, n, exact=True) #int; number of combinations\n",
    "    Z = np.zeros((c,n), dtype=int) #empty matrix\n",
    "    combos = list(combinations(np.arange(1,m+1), n)) #list of combinations, trt will be the matrix\n",
    "    print(combos)\n",
    "    \n",
    "    trt = np.zeros((c,n), dtype=int)\n",
    "    print(trt)\n",
    "    \n",
    "    for i in np.arange(0, c):\n",
    "        trt[i,] = combos[i]\n",
    "    print(trt)\n",
    "    \n",
    "    for i in np.arange(0,c):\n",
    "        Z[i,trt[i,]] = 1\n",
    "        Z[i,-trt[i,]] = 0\n",
    "    \n",
    "    return Z"
   ]
  },
  {
   "cell_type": "code",
   "execution_count": 75,
   "metadata": {},
   "outputs": [
    {
     "name": "stdout",
     "output_type": "stream",
     "text": [
      "[(1, 2, 3), (1, 2, 4), (1, 2, 5), (1, 3, 4), (1, 3, 5), (1, 4, 5), (2, 3, 4), (2, 3, 5), (2, 4, 5), (3, 4, 5)]\n",
      "[[0 0 0]\n",
      " [0 0 0]\n",
      " [0 0 0]\n",
      " [0 0 0]\n",
      " [0 0 0]\n",
      " [0 0 0]\n",
      " [0 0 0]\n",
      " [0 0 0]\n",
      " [0 0 0]\n",
      " [0 0 0]]\n",
      "[[1 2 3]\n",
      " [1 2 4]\n",
      " [1 2 5]\n",
      " [1 3 4]\n",
      " [1 3 5]\n",
      " [1 4 5]\n",
      " [2 3 4]\n",
      " [2 3 5]\n",
      " [2 4 5]\n",
      " [3 4 5]]\n"
     ]
    },
    {
     "ename": "IndexError",
     "evalue": "index 3 is out of bounds for axis 1 with size 3",
     "output_type": "error",
     "traceback": [
      "\u001b[0;31m---------------------------------------------------------------------------\u001b[0m",
      "\u001b[0;31mIndexError\u001b[0m                                Traceback (most recent call last)",
      "\u001b[0;32m<ipython-input-75-fd37b1e9eb4c>\u001b[0m in \u001b[0;36m<module>\u001b[0;34m\u001b[0m\n\u001b[0;32m----> 1\u001b[0;31m \u001b[0mnchoosem\u001b[0m\u001b[0;34m(\u001b[0m\u001b[0;36m3\u001b[0m\u001b[0;34m,\u001b[0m\u001b[0;36m5\u001b[0m\u001b[0;34m)\u001b[0m\u001b[0;34m\u001b[0m\u001b[0;34m\u001b[0m\u001b[0m\n\u001b[0m",
      "\u001b[0;32m<ipython-input-74-febdab69596f>\u001b[0m in \u001b[0;36mnchoosem\u001b[0;34m(n, m)\u001b[0m\n\u001b[1;32m     13\u001b[0m \u001b[0;34m\u001b[0m\u001b[0m\n\u001b[1;32m     14\u001b[0m     \u001b[0;32mfor\u001b[0m \u001b[0mi\u001b[0m \u001b[0;32min\u001b[0m \u001b[0mnp\u001b[0m\u001b[0;34m.\u001b[0m\u001b[0marange\u001b[0m\u001b[0;34m(\u001b[0m\u001b[0;36m0\u001b[0m\u001b[0;34m,\u001b[0m\u001b[0mc\u001b[0m\u001b[0;34m)\u001b[0m\u001b[0;34m:\u001b[0m\u001b[0;34m\u001b[0m\u001b[0;34m\u001b[0m\u001b[0m\n\u001b[0;32m---> 15\u001b[0;31m         \u001b[0mZ\u001b[0m\u001b[0;34m[\u001b[0m\u001b[0mi\u001b[0m\u001b[0;34m,\u001b[0m\u001b[0mtrt\u001b[0m\u001b[0;34m[\u001b[0m\u001b[0mi\u001b[0m\u001b[0;34m,\u001b[0m\u001b[0;34m]\u001b[0m\u001b[0;34m]\u001b[0m \u001b[0;34m=\u001b[0m \u001b[0;36m1\u001b[0m\u001b[0;34m\u001b[0m\u001b[0;34m\u001b[0m\u001b[0m\n\u001b[0m\u001b[1;32m     16\u001b[0m         \u001b[0mZ\u001b[0m\u001b[0;34m[\u001b[0m\u001b[0mi\u001b[0m\u001b[0;34m,\u001b[0m\u001b[0;34m-\u001b[0m\u001b[0mtrt\u001b[0m\u001b[0;34m[\u001b[0m\u001b[0mi\u001b[0m\u001b[0;34m,\u001b[0m\u001b[0;34m]\u001b[0m\u001b[0;34m]\u001b[0m \u001b[0;34m=\u001b[0m \u001b[0;36m0\u001b[0m\u001b[0;34m\u001b[0m\u001b[0;34m\u001b[0m\u001b[0m\n\u001b[1;32m     17\u001b[0m \u001b[0;34m\u001b[0m\u001b[0m\n",
      "\u001b[0;31mIndexError\u001b[0m: index 3 is out of bounds for axis 1 with size 3"
     ]
    }
   ],
   "source": [
    "nchoosem(3,5)"
   ]
  },
  {
   "cell_type": "code",
   "execution_count": 40,
   "metadata": {},
   "outputs": [
    {
     "name": "stdout",
     "output_type": "stream",
     "text": [
      "10\n"
     ]
    },
    {
     "data": {
      "text/plain": [
       "[(0, 1, 2),\n",
       " (0, 1, 3),\n",
       " (0, 1, 4),\n",
       " (0, 2, 3),\n",
       " (0, 2, 4),\n",
       " (0, 3, 4),\n",
       " (1, 2, 3),\n",
       " (1, 2, 4),\n",
       " (1, 3, 4),\n",
       " (2, 3, 4)]"
      ]
     },
     "execution_count": 40,
     "metadata": {},
     "output_type": "execute_result"
    }
   ],
   "source": [
    "# getting matrix of all combinations\n",
    "x = list(combinations(np.arange(0,5), 3))\n",
    "x"
   ]
  },
  {
   "cell_type": "code",
   "execution_count": 32,
   "metadata": {},
   "outputs": [
    {
     "name": "stdout",
     "output_type": "stream",
     "text": [
      "[[0 0]\n",
      " [0 0]\n",
      " [0 0]\n",
      " [0 0]]\n"
     ]
    }
   ],
   "source": [
    "trt = np.zeros((4,2), dtype=int)\n",
    "print(trt)\n",
    "for i in np.arange(0, 4):\n",
    "    trt[i,] = np.random.choice(2, size=2, replace=False)"
   ]
  },
  {
   "cell_type": "code",
   "execution_count": 35,
   "metadata": {},
   "outputs": [
    {
     "data": {
      "text/plain": [
       "array([[0, 0],\n",
       "       [2, 2],\n",
       "       [4, 4],\n",
       "       [6, 6]])"
      ]
     },
     "execution_count": 35,
     "metadata": {},
     "output_type": "execute_result"
    }
   ],
   "source": [
    "test = np.zeros((4,2), dtype=int)\n",
    "for i in np.arange(0, 4):\n",
    "    test[i,] = [i*2, i*2]\n",
    "test    "
   ]
  },
  {
   "cell_type": "code",
   "execution_count": 9,
   "metadata": {},
   "outputs": [],
   "source": [
    "def tau_twoside_lower(n11, n10, n01, n00, alpha, Z_all):\n",
    "    n = n11+n10+n01+n00\n",
    "    m = n11+n10\n",
    "    tau_obs = n11/m - n01/(n-m)\n",
    "    ntau_obs = n*n11/m - n* n01/(n-m)\n",
    "    tau_min = math.inf\n",
    "    tau_max = -math.inf\n",
    "    N_accept_min = np.nan\n",
    "    N_accept_max = np.nan\n",
    "    rand_test_total = 0\n",
    "    \n",
    "    for N11 in np.arange(0, min((n11+n01), n+ntau_obs)):\n",
    "        tau_min_N11 = tau_lower_N11_twoside(n11, n10, n01, n00, N11, Z_all, alpha)\n",
    "        # assumes that tau_lower_N11_twoside output is a dictionary\n",
    "        rand_test_total = rand_test_total + tau_min_N11[\"rand_test_num\"] \n",
    "        if(tau_min_N11[\"tau_min\"] < tau_min):\n",
    "            N_accept_min = tau_min_N11[\"N_accept_min\"]\n",
    "        if(tau_min_N11[\"tau_max\"] > tau_max):\n",
    "            N_accept_max = tau_min_N11[\"N_accept_max\"]\n",
    "        tau_min = min(tau_min, tau_min_N11[\"tau_min\"])\n",
    "        tau_max = max(tau_max, tau_min_N11[\"tau_max\"])\n",
    "    \n",
    "    tau_lower = tau_min\n",
    "    tau_upper = tau_max\n",
    "    N_accept_lower = N_accept_min\n",
    "    N_accept_upper = N_accept_max \n",
    "                      \n",
    "    dict_output = {'tau_lower':tau_lower, 'N_accept_lower':N_accept_lower, \n",
    "                   'tau_upper':tau_upper, 'N_accept_upper':N_accept_upper,\n",
    "                  'rand_test_total':rand_test_total}\n",
    "    return dict_output"
   ]
  },
  {
   "cell_type": "code",
   "execution_count": null,
   "metadata": {},
   "outputs": [],
   "source": []
  }
 ],
 "metadata": {
  "kernelspec": {
   "display_name": "Python 3",
   "language": "python",
   "name": "python3"
  },
  "language_info": {
   "codemirror_mode": {
    "name": "ipython",
    "version": 3
   },
   "file_extension": ".py",
   "mimetype": "text/x-python",
   "name": "python",
   "nbconvert_exporter": "python",
   "pygments_lexer": "ipython3",
   "version": "3.8.8"
  }
 },
 "nbformat": 4,
 "nbformat_minor": 4
}
