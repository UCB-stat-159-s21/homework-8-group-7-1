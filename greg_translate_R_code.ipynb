{
 "cells": [
  {
   "cell_type": "code",
   "execution_count": 3,
   "metadata": {},
   "outputs": [
    {
     "name": "stdout",
     "output_type": "stream",
     "text": [
      "The rpy2.ipython extension is already loaded. To reload it, use:\n",
      "  %reload_ext rpy2.ipython\n"
     ]
    }
   ],
   "source": [
    "import numpy as np\n",
    "import pandas as pd\n",
    "import math\n",
    "from itertools import combinations\n",
    "from itertools import filterfalse\n",
    "import math\n",
    "%load_ext rpy2.ipython\n",
    "\n"
   ]
  },
  {
   "cell_type": "code",
   "execution_count": 4,
   "metadata": {},
   "outputs": [],
   "source": [
    "def nchoosem(n, m):\n",
    "    \"\"\"blurb here\"\"\"\n",
    "    c = math.comb(n, m)\n",
    "    trt = np.array(list(combinations(np.arange(n), m)))\n",
    "    Z = np.zeros((c, n))\n",
    "    for i in np.arange(c):\n",
    "        Z[i, trt[i, :]] = 1\n",
    "    return Z"
   ]
  },
  {
   "cell_type": "code",
   "execution_count": 5,
   "metadata": {},
   "outputs": [
    {
     "data": {
      "text/plain": [
       "array([[1., 1., 1., 0., 0.],\n",
       "       [1., 1., 0., 1., 0.],\n",
       "       [1., 1., 0., 0., 1.],\n",
       "       [1., 0., 1., 1., 0.],\n",
       "       [1., 0., 1., 0., 1.],\n",
       "       [1., 0., 0., 1., 1.],\n",
       "       [0., 1., 1., 1., 0.],\n",
       "       [0., 1., 1., 0., 1.],\n",
       "       [0., 1., 0., 1., 1.],\n",
       "       [0., 0., 1., 1., 1.]])"
      ]
     },
     "execution_count": 5,
     "metadata": {},
     "output_type": "execute_result"
    }
   ],
   "source": [
    "n = 5\n",
    "m = 3\n",
    "c = list(combinations(np.arange(5), 3))\n",
    "nchoosem(n, m)"
   ]
  },
  {
   "cell_type": "code",
   "execution_count": 6,
   "metadata": {},
   "outputs": [
    {
     "data": {
      "text/plain": [
       "0.36507936507936506"
      ]
     },
     "execution_count": 6,
     "metadata": {},
     "output_type": "execute_result"
    }
   ],
   "source": [
    "n11 = 4\n",
    "n01 = 3\n",
    "n00 = 2\n",
    "n10 = 1\n",
    "m = n10 + n11\n",
    "n = n11 + n01 + n00 + n10\n",
    "N11 = 3\n",
    "Z_all = nchoosem(n, m)\n",
    "tau_obs = n11/m - n01/(n-m)\n",
    "\n",
    "def pval_two(n, m, N, Z_all, tau_obs):\n",
    "    n_Z_all = Z_all.shape[0]\n",
    "    dat = np.zeros((n, 2))\n",
    "    if N[0] > 0:\n",
    "        dat[0:N[0], :] = 1\n",
    "    if N[1] > 0:\n",
    "        dat[(N[0]): (N[0] + N[1]), 0] = 1\n",
    "        dat[(N[0]): (N[0] + N[1]), 1] = 0\n",
    "    if N[2] > 0:\n",
    "        dat[(N[0]+N[1]):(N[0]+N[1]+N[2]), 0] = 0\n",
    "        dat[(N[0]+N[1]):(N[0]+N[1]+N[2]), 1] = 1\n",
    "    if N[3] > 0:\n",
    "        dat[(N[0]+N[1]+N[2]):(N[0]+N[1]+N[2]+N[3]), ] = 0\n",
    "    tau_hat = np.matmul(Z_all, dat[:, 0])/(m) - np.matmul((1 - Z_all), dat[:, 1])/(n-m)\n",
    "    tau_N = (N[1]-N[2])/n \n",
    "    pd = sum(np.round(np.abs(tau_hat-tau_N),15)>=np.round(np.abs(tau_obs-tau_N),15))/n_Z_all\n",
    "    return pd\n",
    "\n",
    "pval_two(n, m, np.array([1,2,3,4]), Z_all, tau_obs)"
   ]
  },
  {
   "cell_type": "code",
   "execution_count": 7,
   "metadata": {},
   "outputs": [
    {
     "data": {
      "text/plain": [
       "[True, True]"
      ]
     },
     "execution_count": 7,
     "metadata": {},
     "output_type": "execute_result"
    }
   ],
   "source": [
    "def check_compatible(n11, n10, n01, n00, N11, N10, N01):\n",
    "    n = n11 + n10 + n01 + n00\n",
    "    n_t = len(N10)\n",
    "    left = np.max(np.array([np.repeat(0, n_t), n11 - np.array(N10), np.array(N11) - n01, np.array(N11) + np.array(N01)-n10-n01]), axis=0)\n",
    "    right = np.min(np.array([np.array(N11), np.repeat(n11, n_t), np.array(N11) + np.array(N01) - n01, n-np.array(N10)-n01-n10]), axis=0)\n",
    "    compat = left <= right\n",
    "    return list(compat)\n",
    "\n",
    "check_compatible(1, 5, 12, 13, np.array([5, 6]), np.array([6,8]), np.array([7, 8]))"
   ]
  },
  {
   "cell_type": "code",
   "execution_count": 8,
   "metadata": {},
   "outputs": [
    {
     "data": {
      "text/plain": [
       "{'tau_min': -0.3,\n",
       " 'tau_max': 0.2,\n",
       " 'N_accept_min': array([3., 1., 4., 2.]),\n",
       " 'N_accept_max': array([3., 1., 4., 2.]),\n",
       " 'rand_test_num': 8}"
      ]
     },
     "execution_count": 8,
     "metadata": {},
     "output_type": "execute_result"
    }
   ],
   "source": [
    "def tau_lower_N11_twoside(n11, n10, n01, n00, N11, Z_all, alpha):\n",
    "    n = n11 + n10 + n01 + n00\n",
    "    m = n11 + n10\n",
    "    tau_obs = n11 / m - n01 / (n - m)\n",
    "    ntau_obs = n * n11 / m - n * n01 / (n - m)\n",
    "    # N01 range from max((-n*tau_obs),0) to n-N11\n",
    "    N10 = 0\n",
    "    N01_vec0 = np.arange(0, (n-N11))[np.arange(0, (n-N11)) >= (-ntau_obs)] #  check if c() is inclusive\n",
    "    N01 = min(N01_vec0)\n",
    "    M = np.repeat(np.nan, len(N01_vec0))\n",
    "    ### need to change\n",
    "    ### counting number of randomization test\n",
    "    rand_test_num = 0\n",
    "    while (N10 <= (n - N11 - N01) and N01 <= (n - N11)):\n",
    "        if N10 <= (N01 + ntau_obs):\n",
    "            pl = pval_two(n, m, np.array([N11, N10, N01, n - (N11 + N10 + N01)]), Z_all, tau_obs)\n",
    "            rand_test_num += 1\n",
    "            if pl >= alpha:\n",
    "                M[N01_vec0 == N01] = N10\n",
    "                N01 = N01 + 1\n",
    "            else:\n",
    "                N10 = N10 + 1\n",
    "        else:\n",
    "            M[N01_vec0 == N01] = N10\n",
    "            N01 = N01 + 1\n",
    "    if N01 <= (n - N11):\n",
    "        M[N01_vec0 >= N01] = np.floor(N01_vec0[N01_vec0 >= N01] + ntau_obs) + 1\n",
    "    N11_vec0 = np.repeat(N11, len(N01_vec0))\n",
    "    N10_vec0 = M\n",
    "    N11_vec = np.array([])\n",
    "    N10_vec = np.array([])\n",
    "    N01_vec = np.array([])\n",
    "    for i in np.arange(len(N11_vec0)):\n",
    "        N10_upper = min((n - N11_vec0[i] - N01_vec0[i]), np.floor(N01_vec0[i] + ntau_obs))\n",
    "        if N10_vec0[i] <= N10_upper:\n",
    "            N10_vec = np.append(N10_vec, np.array(np.arange(N10_vec0[i], N10_upper + 1)))\n",
    "            N11_vec = np.append(N11_vec, np.repeat(N11_vec0[i], (N10_upper-N10_vec0[i]+1)))\n",
    "            N01_vec = np.append(N01_vec, np.repeat(N01_vec0[i], (N10_upper-N10_vec0[i]+1)))\n",
    "\n",
    "    compat = check_compatible(n11, n10, n01, n00, N11_vec, N10_vec, N01_vec)\n",
    "    \n",
    "    if sum(compat) > 0:\n",
    "        tau_min = min(N10_vec[compat] - N01_vec[compat]) / n\n",
    "        accept_pos = np.where((N10_vec[compat] - N01_vec[compat]) == n * tau_min)\n",
    "        accept_pos = accept_pos[0]\n",
    "        N_accept_min = np.array([N11, N10_vec[compat][accept_pos][0], N01_vec[compat][accept_pos][0], n-(N11+N10_vec[compat][accept_pos]+N01_vec[compat][accept_pos])[0]])\n",
    "        tau_max = max(N10_vec[compat] - N01_vec[compat]) / n\n",
    "        accept_pos = np.where((N10_vec[compat] - N01_vec[compat]) == n * tau_min)\n",
    "        accept_pos = accept_pos[0]\n",
    "        N_accept_max = np.array([N11, N10_vec[compat][accept_pos][0], N01_vec[compat][accept_pos][0], n-(N11+N10_vec[compat][accept_pos]+N01_vec[compat][accept_pos])[0]])\n",
    "    else:\n",
    "        tau_min = math.inf\n",
    "        N_accept_min = np.nan\n",
    "        tau_max = -math.inf\n",
    "        N_accept_max = np.nan\n",
    "    return {\"tau_min\": tau_min, \"tau_max\": tau_max, \"N_accept_min\": N_accept_min, \"N_accept_max\":N_accept_max, \"rand_test_num\":rand_test_num}\n",
    "\n",
    "\n",
    "\n",
    "tau_lower_N11_twoside(n11, n10, n01, n00, N11, Z_all, .05)\n"
   ]
  },
  {
   "cell_type": "code",
   "execution_count": null,
   "metadata": {},
   "outputs": [],
   "source": []
  },
  {
   "cell_type": "code",
   "execution_count": null,
   "metadata": {},
   "outputs": [],
   "source": []
  },
  {
   "cell_type": "code",
   "execution_count": null,
   "metadata": {},
   "outputs": [],
   "source": []
  }
 ],
 "metadata": {
  "kernelspec": {
   "display_name": "Python 3",
   "language": "python",
   "name": "python3"
  },
  "language_info": {
   "codemirror_mode": {
    "name": "ipython",
    "version": 3
   },
   "file_extension": ".py",
   "mimetype": "text/x-python",
   "name": "python",
   "nbconvert_exporter": "python",
   "pygments_lexer": "ipython3",
   "version": "3.8.8"
  }
 },
 "nbformat": 4,
 "nbformat_minor": 4
}
