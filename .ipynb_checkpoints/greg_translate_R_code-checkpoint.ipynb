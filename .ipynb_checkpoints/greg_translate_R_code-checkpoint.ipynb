{
 "cells": [
  {
   "cell_type": "code",
   "execution_count": 1,
   "metadata": {},
   "outputs": [],
   "source": [
    "import numpy as np\n",
    "import pandas as pd\n"
   ]
  },
  {
   "cell_type": "code",
   "execution_count": 2,
   "metadata": {},
   "outputs": [],
   "source": [
    "def pval_two(n, m, N, Z_all, tau_obs):\n",
    "    n_Z_all = Z_all[0]\n",
    "    dat = np.zeros((n, 2))\n",
    "    if N[0] > 0:\n",
    "        dat[0:N[0], :] = 1\n",
    "    if N[1] > 0:\n",
    "        dat[(N[0] + 1): (N[0] + N[1]), 0] = 1\n",
    "        dat[(N[0] + 1): (N[0] + N[1]), 1] = 0\n",
    "    if N[2] > 0:\n",
    "        dat[(N[0]+N[1]+1):(N[0]+N[1]+N[2]), 0] = 0\n",
    "        dat[(N[0]+N[1]+1):(N[0]+N[1]+N[2]), 1] = 1\n",
    "    if N[3] > 0:\n",
    "        dat[(N[0]+N[1]+N[2]+1):(N[0]+N[1]+N[2]+N[3]), :] = 0\n",
    "    tau_hat = np.matrix(Z_all) * np.matrix(dat[:, 0]/(m)) - (1 - np.matrix(Z_all)) * np.matrix(dat[:, 1]/(n - m))\n",
    "    pd = sum(round(abs(tau_hat - tau_N), 15) >= round(abs(tau_obs - tau_N), 15)) / n_Z_all\n",
    "    return pd\n",
    "\n",
    "pval_two(1, 2, np.array([3,4,5]), )"
   ]
  },
  {
   "cell_type": "code",
   "execution_count": 17,
   "metadata": {},
   "outputs": [
    {
     "data": {
      "text/plain": [
       "array([ True,  True,  True, False])"
      ]
     },
     "execution_count": 17,
     "metadata": {},
     "output_type": "execute_result"
    }
   ],
   "source": [
    "def check_compatible(n11, n10, n01, n00, N11, N10, N01):\n",
    "    n = n11 + n10 + n01 + n00\n",
    "    n_t = len(N10)\n",
    "    left = np.max(np.array([np.repeat(0, n_t), n11 - np.array(N10), np.array(N11) - n01, np.array(N11) + np.array(N01)-n10-n01]), axis=1)\n",
    "    right = np.min(np.array([np.array(N11), np.repeat(n11, n_t), np.array(N11) + np.array(N01) - n01, n-np.array(N10)-n01-n10]), axis=1)\n",
    "    compat = left <= right\n",
    "    return compat\n",
    "\n",
    "\n",
    "#   left = apply(cbind(rep(0,n_t), n11-N10, N11-n01, N11+N01-n10-n01),1,max)\n",
    "#   right = apply(cbind(N11, rep(n11, n_t), N11+N01-n01, n-N10-n01-n10),1,min)\n",
    "\n",
    "# right = np.min(np.array([np.array(N11), np.repeat(n11, n_t), np.array(N11) + np.array(N01) - n01, n-np.array(N10)-n01-n10]), axis=1)\n",
    "check_compatible(1, 2, 3, 4, np.array([5, 6]), np.array([6,8]), np.array([7, 8]))"
   ]
  },
  {
   "cell_type": "code",
   "execution_count": null,
   "metadata": {},
   "outputs": [],
   "source": [
    "def tau_lower_N11_twoside(n11, n10, n01, n00, N11, Z_all, alpha):\n",
    "    n = n11 + n10 + n01 + n00\n",
    "    m = n11 + n10\n",
    "    tau_obs = n11 / m - n01 / (n - m)\n",
    "    ntau_obs = n * n11 / m - n * n01 / (n - m)\n",
    "    # N01 range from max((-n*tau_obs),0) to n-N11\n",
    "    N10 = 0\n",
    "    N01_vec0 = c(0:(n-N11))[c(0:(n-N11))>=(-ntau_obs)]\n",
    "    N01 = min(N01_vec0)\n",
    "    M = rep(NA, length(N01_vec0))\n",
    "    ### need to change\n",
    "    ### counting number of randomization test\n",
    "    rand_test_num = 0\n",
    "    while (N10 <= (n - N11 - N01) and N01 <= (n - N11)):\n",
    "        if N10 <= N01 + ntau_obs:\n",
    "            pl = pval_two(n, m, [N11, N10, N01, n - (N11 + N10 + N01)], Z_all, tau_obs)\n",
    "            rand_test_num += 1\n",
    "            if pl >= alpha:\n",
    "                M[N01_vec0 == N01] = N10\n",
    "                N01 = N01 + 1"
   ]
  }
 ],
 "metadata": {
  "kernelspec": {
   "display_name": "Python 3",
   "language": "python",
   "name": "python3"
  },
  "language_info": {
   "codemirror_mode": {
    "name": "ipython",
    "version": 3
   },
   "file_extension": ".py",
   "mimetype": "text/x-python",
   "name": "python",
   "nbconvert_exporter": "python",
   "pygments_lexer": "ipython3",
   "version": "3.8.8"
  }
 },
 "nbformat": 4,
 "nbformat_minor": 4
}
