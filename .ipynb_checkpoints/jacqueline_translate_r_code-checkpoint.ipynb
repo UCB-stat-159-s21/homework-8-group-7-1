{
 "cells": [
  {
   "cell_type": "code",
   "execution_count": 1,
   "metadata": {},
   "outputs": [],
   "source": [
    "import numpy as np\n",
    "import pandas as pd\n",
    "import math\n",
    "from itertools import combinations\n",
    "from itertools import filterfalse\n",
    "import scipy.special\n",
    "%load_ext rpy2.ipython"
   ]
  },
  {
   "cell_type": "code",
   "execution_count": 2,
   "metadata": {},
   "outputs": [],
   "source": [
    "def nchoosem(n, m):\n",
    "    \"\"\"blurb here\"\"\"\n",
    "    c = math.comb(n, m)\n",
    "    trt = np.array(list(combinations(np.arange(n), m)))\n",
    "    Z = np.zeros((c, n))\n",
    "    for i in np.arange(c):\n",
    "        Z[i, trt[i, :]] = 1\n",
    "    return Z"
   ]
  },
  {
   "cell_type": "code",
   "execution_count": 3,
   "metadata": {},
   "outputs": [
    {
     "data": {
      "text/plain": [
       "array([[1., 1., 1., 0., 0.],\n",
       "       [1., 1., 0., 1., 0.],\n",
       "       [1., 1., 0., 0., 1.],\n",
       "       [1., 0., 1., 1., 0.],\n",
       "       [1., 0., 1., 0., 1.],\n",
       "       [1., 0., 0., 1., 1.],\n",
       "       [0., 1., 1., 1., 0.],\n",
       "       [0., 1., 1., 0., 1.],\n",
       "       [0., 1., 0., 1., 1.],\n",
       "       [0., 0., 1., 1., 1.]])"
      ]
     },
     "execution_count": 3,
     "metadata": {},
     "output_type": "execute_result"
    }
   ],
   "source": [
    "n = 5\n",
    "m = 3\n",
    "c = list(combinations(np.arange(5), 3))\n",
    "nchoosem(n, m)"
   ]
  },
  {
   "cell_type": "code",
   "execution_count": 4,
   "metadata": {},
   "outputs": [
    {
     "data": {
      "text/plain": [
       "array([[1, 0, 0, 1, 1],\n",
       "       [1, 0, 1, 0, 1],\n",
       "       [0, 1, 0, 1, 1],\n",
       "       [0, 0, 1, 1, 1],\n",
       "       [1, 1, 0, 0, 1]])"
      ]
     },
     "execution_count": 4,
     "metadata": {},
     "output_type": "execute_result"
    }
   ],
   "source": [
    "def comb(n, m, nperm):\n",
    "    trt = np.zeros((nperm,m), dtype=int)\n",
    "    for i in np.arange(0, nperm):\n",
    "        trt[i,] = np.random.choice(n, size=m, replace=False)\n",
    "\n",
    "    Z = np.zeros((nperm,n), dtype=int)\n",
    "    \n",
    "    for i in np.arange(0, nperm):\n",
    "        Z[i,trt[i,]] = 1\n",
    "\n",
    "    return Z\n",
    "\n",
    "comb(n, m, n)"
   ]
  },
  {
   "cell_type": "code",
   "execution_count": 5,
   "metadata": {},
   "outputs": [
    {
     "data": {
      "text/plain": [
       "0.36507936507936506"
      ]
     },
     "execution_count": 5,
     "metadata": {},
     "output_type": "execute_result"
    }
   ],
   "source": [
    "n11 = 4\n",
    "n01 = 3\n",
    "n00 = 2\n",
    "n10 = 1\n",
    "m = n10 + n11\n",
    "n = n11 + n01 + n00 + n10\n",
    "N11 = 3\n",
    "Z_all = nchoosem(n, m)\n",
    "tau_obs = n11/m - n01/(n-m)\n",
    "\n",
    "def pval_two(n, m, N, Z_all, tau_obs):\n",
    "    n_Z_all = Z_all.shape[0]\n",
    "    dat = np.zeros((n, 2))\n",
    "    N = [int(x) for x in N]\n",
    "    if N[0] > 0:\n",
    "        dat[0:N[0], :] = 1\n",
    "    if N[1] > 0:\n",
    "        dat[(N[0]): (N[0] + N[1]), 0] = 1\n",
    "        dat[(N[0]): (N[0] + N[1]), 1] = 0\n",
    "    if N[2] > 0:\n",
    "        dat[(N[0]+N[1]):(N[0]+N[1]+N[2]), 0] = 0\n",
    "        dat[(N[0]+N[1]):(N[0]+N[1]+N[2]), 1] = 1\n",
    "    if N[3] > 0:\n",
    "        dat[(N[0]+N[1]+N[2]):(N[0]+N[1]+N[2]+N[3]), ] = 0\n",
    "    tau_hat = np.matmul(Z_all, dat[:, 0])/(m) - np.matmul((1 - Z_all), dat[:, 1])/(n-m)\n",
    "    tau_N = (N[1]-N[2])/n \n",
    "    pd = sum(np.round(np.abs(tau_hat-tau_N),15)>=np.round(np.abs(tau_obs-tau_N),15))/n_Z_all\n",
    "    return pd\n",
    "\n",
    "pval_two(n, m, np.array([1,2,3,4]), Z_all, tau_obs)"
   ]
  },
  {
   "cell_type": "code",
   "execution_count": 6,
   "metadata": {},
   "outputs": [
    {
     "data": {
      "text/plain": [
       "[True, True]"
      ]
     },
     "execution_count": 6,
     "metadata": {},
     "output_type": "execute_result"
    }
   ],
   "source": [
    "def check_compatible(n11, n10, n01, n00, N11, N10, N01):\n",
    "    n = n11 + n10 + n01 + n00\n",
    "    n_t = len(N10)\n",
    "    left = np.max(np.array([np.repeat(0, n_t), n11 - np.array(N10), np.array(N11) - n01, np.array(N11) + np.array(N01)-n10-n01]), axis=0)\n",
    "    right = np.min(np.array([np.array(N11), np.repeat(n11, n_t), np.array(N11) + np.array(N01) - n01, n-np.array(N10)-n01-n10]), axis=0)\n",
    "    compat = left <= right\n",
    "    return list(compat)\n",
    "\n",
    "check_compatible(1, 5, 12, 13, np.array([5, 6]), np.array([6,8]), np.array([7, 8]))"
   ]
  },
  {
   "cell_type": "code",
   "execution_count": 7,
   "metadata": {},
   "outputs": [
    {
     "data": {
      "text/plain": [
       "True"
      ]
     },
     "execution_count": 7,
     "metadata": {},
     "output_type": "execute_result"
    }
   ],
   "source": [
    "def check_compatible_2(n11, n10, n01, n00, N11, N10, N01):\n",
    "    n = n11 + n10 + n01 + n00\n",
    "    left = np.max(np.array([0, n11 - N10, N11 - n01, N11 + N01-n10-n01]), axis=0)\n",
    "    right = np.min(np.array([N11, n11, N11 + N01 - n01, n-N10-n01-n10]), axis=0)\n",
    "    compat = left <= right\n",
    "    return compat\n",
    "\n",
    "check_compatible_2(1, 5, 12, 13, 5, 6, 7)"
   ]
  },
  {
   "cell_type": "code",
   "execution_count": 60,
   "metadata": {},
   "outputs": [],
   "source": [
    "def tau_lower_N11_twoside(n11, n10, n01, n00, N11, Z_all, alpha):\n",
    "    \"\"\"blurb here\"\"\"\n",
    "    n = n11 + n10 + n01 + n00\n",
    "    m = n11 + n10\n",
    "    \n",
    "    ### need to change\n",
    "    ### counting number of randomization test\n",
    "    tau_obs = n11 / m - n01 / (n - m)\n",
    "    ntau_obs = n * n11 / m - n * n01 / (n - m)\n",
    "    # N01 range from max((-n*tau_obs),0) to n-N11\n",
    "    N10 = 0\n",
    "    N01_vec0 = np.arange(0, (n-N11)+1)[np.arange(0, (n-N11)+1) >= (-ntau_obs)] #  check if c() is inclusive\n",
    "    N01 = min(N01_vec0)\n",
    "    M = np.repeat(np.nan, len(N01_vec0))\n",
    "    rand_test_num = 0\n",
    "    while (N10 <= (n - N11 - N01) and N01 <= (n - N11)):\n",
    "        if N10 <= (N01 + ntau_obs):\n",
    "            pl = pval_two(n, m, np.array([N11, N10, N01, n - (N11 + N10 + N01)]), Z_all, tau_obs)\n",
    "            rand_test_num += 1\n",
    "            if pl >= alpha:\n",
    "                M[N01_vec0 == N01] = N10\n",
    "                N01 = N01 + 1\n",
    "            else:\n",
    "                N10 = N10 + 1\n",
    "        else:\n",
    "            M[N01_vec0 == N01] = N10\n",
    "            N01 = N01 + 1\n",
    "    if N01 <= (n - N11):\n",
    "        M[N01_vec0 >= N01] = np.floor(N01_vec0[N01_vec0 >= N01] + ntau_obs) + 1\n",
    "    N11_vec0 = np.repeat(N11, len(N01_vec0))\n",
    "    N10_vec0 = M\n",
    "    N11_vec = np.array([])\n",
    "    N10_vec = np.array([])\n",
    "    N01_vec = np.array([])\n",
    "    \n",
    "#     def N_generator():\n",
    "        \n",
    "#         for i in np.arange(len(N11_vec0)):\n",
    "#             N10_upper = min((n - N11_vec0[i] - N01_vec0[i]), np.floor(N01_vec0[i] + ntau_obs))\n",
    "            \n",
    "#             if N10_vec0[i] <= N10_upper:\n",
    "#                 for j in np.arange(N10_vec0[i], N10_upper + 1):\n",
    "#                     N10_val = int(j)\n",
    "#                     N11_val = int(N11_vec0[i])\n",
    "#                     N01_val = int(N01_vec0[i])\n",
    "#                     if check_compatible_2(n11, n10, n01, n00, N11_val, N10_val, N01_val):\n",
    "#                         yield [N11_val, N10_val, N01_val, n-(N11_val+N10_val+N01_val)]\n",
    "\n",
    "#     tau_min = math.inf\n",
    "#     N_accept_min = np.nan\n",
    "#     tau_max = -math.inf\n",
    "#     N_accept_max = np.nan\n",
    "    \n",
    "#     for tbl in N_generator():\n",
    "#         tN = (tbl[1] - tbl[2]) / n\n",
    "#         if tN < tau_min:\n",
    "#             tau_min = tN\n",
    "#             N_accept_min = np.array(tbl[:4])\n",
    "#         if tN > tau_max:\n",
    "#             tau_max = tN\n",
    "#             N_accept_max = np.array(tbl[:4])\n",
    "\n",
    "    for i in np.arange(len(N11_vec0)):\n",
    "        N10_upper = min((n - N11_vec0[i] - N01_vec0[i]), np.floor(N01_vec0[i] + ntau_obs))\n",
    "        if N10_vec0[i] <= N10_upper:\n",
    "            N10_vec = np.append(N10_vec, np.array(np.arange(N10_vec0[i], N10_upper + 1)))\n",
    "            N11_vec = np.append(N11_vec, np.repeat(N11_vec0[i], (N10_upper-N10_vec0[i]+1)))\n",
    "            N01_vec = np.append(N01_vec, np.repeat(N01_vec0[i], (N10_upper-N10_vec0[i]+1)))\n",
    "\n",
    "    compat = check_compatible(n11, n10, n01, n00, N11_vec, N10_vec, N01_vec)\n",
    "    \n",
    "    if sum(compat) > 0:\n",
    "        tau_min = min(N10_vec[compat] - N01_vec[compat]) / n\n",
    "        accept_pos = np.where((N10_vec[compat] - N01_vec[compat]) == np.round(n * tau_min, 0))\n",
    "        accept_pos = accept_pos[0]\n",
    "        N_accept_min = np.array([N11, N10_vec[compat][accept_pos][0], N01_vec[compat][accept_pos][0], n-(N11+N10_vec[compat][accept_pos]+N01_vec[compat][accept_pos])[0]])\n",
    "        tau_max = max(N10_vec[compat] - N01_vec[compat]) / n\n",
    "        accept_pos = np.where((N10_vec[compat] - N01_vec[compat]) == np.round(n * tau_max, 0))\n",
    "        accept_pos = accept_pos[0]\n",
    "        N_accept_max = np.array([N11, N10_vec[compat][accept_pos][0], N01_vec[compat][accept_pos][0], n-(N11+N10_vec[compat][accept_pos]+N01_vec[compat][accept_pos])[0]])\n",
    "    else:\n",
    "        tau_min = math.inf\n",
    "        N_accept_min = np.nan\n",
    "        tau_max = -math.inf\n",
    "        N_accept_max = np.nan\n",
    "    return {\"tau_min\": tau_min, \"tau_max\": tau_max, \"N_accept_min\": N_accept_min, \"N_accept_max\":N_accept_max, \"rand_test_num\":rand_test_num}\n",
    "\n",
    "\n",
    "#tau_lower_N11_twoside(n11, n10, n01, n00, N11, Z_all, .05)"
   ]
  },
  {
   "cell_type": "code",
   "execution_count": 61,
   "metadata": {},
   "outputs": [
    {
     "name": "stdout",
     "output_type": "stream",
     "text": [
      "(array([1305]),)\n",
      "[1305]\n",
      "[ 76.  77.  78. ... 798. 799. 800.]\n",
      "[ 81.  82.  83. ... 798. 799. 800.]\n",
      "[104.]\n",
      "104.0\n",
      "49.0\n",
      "1352.0\n",
      "moo\n",
      "95.99999999999999\n",
      "(array([  26,   54,   83,  113,  144,  175,  207,  240,  274,  309,  344,\n",
      "        376,  407,  438,  470,  503,  534,  566,  599,  632,  666,  701,\n",
      "        736,  772,  809,  847,  885,  923,  961,  997, 1034, 1071, 1108,\n",
      "       1146, 1184, 1223, 1263, 1304, 1346, 1385, 1423, 1462, 1501, 1541,\n",
      "       1581, 1620, 1656, 1693, 1729, 1766, 1803, 1840, 1874, 1908, 1943,\n",
      "       1977, 2008, 2040, 2068, 2097, 2127, 2158, 2186, 2215, 2245, 2276,\n",
      "       2308, 2339, 2365, 2390, 2416, 2439, 2455, 2471, 2488, 2506, 2525,\n",
      "       2542, 2560, 2575, 2590, 2606, 2623, 2641, 2660, 2678, 2697, 2716,\n",
      "       2735, 2753, 2771, 2789, 2796, 2804, 2813, 2821, 2828, 2836, 2845,\n",
      "       2855, 2865, 2875, 2885, 2890, 2896, 2901, 2907, 2911, 2916, 2921,\n",
      "       2927, 2934, 2939, 2943, 2946, 2949, 2953, 2954, 2956, 2957, 2958,\n",
      "       2959, 2960, 2961, 2962, 2963, 2965, 2968, 2972, 2977, 2983, 2988,\n",
      "       2994, 3001, 3009, 3017, 3026, 3034, 3041, 3049, 3057, 3066, 3076,\n",
      "       3077, 3079, 3081, 3083, 3086, 3090, 3095, 3096, 3098, 3101, 3102,\n",
      "       3103, 3105, 3106, 3107, 3108, 3109, 3111, 3113, 3114, 3116, 3119,\n",
      "       3123, 3127, 3130, 3134, 3139, 3144, 3150, 3157, 3162, 3168, 3174,\n",
      "       3181, 3189, 3198, 3208, 3219, 3230, 3242, 3253, 3265, 3278, 3291,\n",
      "       3304, 3317, 3331, 3345, 3355, 3365, 3376, 3388, 3401, 3415, 3424,\n",
      "       3434, 3445, 3455, 3466, 3478, 3491, 3505, 3520, 3536, 3548, 3561,\n",
      "       3575, 3590, 3600, 3609, 3617, 3626, 3636, 3646, 3656, 3664, 3673,\n",
      "       3683, 3694, 3706, 3719, 3733, 3748, 3763, 3777, 3790, 3801, 3813,\n",
      "       3826, 3840, 3852, 3865, 3874, 3884, 3895, 3907, 3919, 3931, 3944,\n",
      "       3958, 3973, 3987, 4002, 4018, 4031, 4043, 4056, 4069, 4083, 4097,\n",
      "       4112, 4128, 4145, 4163, 4181, 4198, 4216, 4235, 4255, 4276, 4297,\n",
      "       4319, 4342, 4365, 4389, 4414, 4434, 4454, 4475, 4495, 4516, 4538,\n",
      "       4561, 4585, 4605, 4624, 4643, 4662, 4679, 4697, 4715, 4732, 4749,\n",
      "       4767, 4786, 4806, 4826, 4843, 4860, 4878, 4896, 4913, 4928, 4943,\n",
      "       4959, 4975, 4990, 5004, 5018, 5033, 5049, 5061, 5074, 5087, 5101,\n",
      "       5113, 5125, 5136, 5146, 5157, 5168, 5176, 5185, 5195, 5204, 5214,\n",
      "       5225, 5231, 5238, 5245, 5253, 5261, 5270, 5280, 5290, 5301, 5310,\n",
      "       5314, 5318, 5322, 5323, 5324, 5326, 5327, 5329, 5331, 5334, 5338,\n",
      "       5340, 5343, 5345, 5348, 5350, 5353, 5356, 5360, 5364, 5369, 5375,\n",
      "       5380, 5385, 5391, 5397, 5403, 5410, 5418, 5427, 5436, 5446, 5456,\n",
      "       5463, 5468, 5474, 5481, 5487, 5492, 5497, 5503, 5508, 5514, 5521,\n",
      "       5529, 5538, 5548, 5559, 5571, 5584, 5597, 5611, 5624, 5637, 5651,\n",
      "       5665, 5679, 5694, 5709, 5725, 5742, 5760, 5774, 5789, 5805, 5820,\n",
      "       5836, 5853, 5870, 5888, 5905, 5923, 5940, 5957, 5972, 5986, 6001,\n",
      "       6016, 6032, 6049, 6067, 6084, 6101, 6118, 6136, 6155, 6175, 6193,\n",
      "       6209, 6217, 6226, 6236, 6246, 6256, 6266, 6277, 6289, 6302, 6311,\n",
      "       6320, 6329, 6339, 6350, 6362, 6372, 6381, 6389, 6394, 6399, 6405,\n",
      "       6409, 6414, 6420, 6426, 6431, 6436, 6442, 6449, 6457, 6464, 6471,\n",
      "       6479, 6488, 6496, 6505, 6515, 6526, 6538, 6550, 6563, 6574, 6586,\n",
      "       6598, 6610, 6623, 6634, 6646, 6659, 6673, 6687, 6702, 6718, 6733,\n",
      "       6747, 6759, 6772, 6786, 6799, 6813, 6827, 6841, 6856, 6870, 6885,\n",
      "       6900, 6913, 6927, 6941, 6956, 6968, 6981, 6993, 7005, 7015, 7026,\n",
      "       7038, 7050, 7062, 7075, 7089, 7103, 7116, 7129, 7143, 7156, 7168,\n",
      "       7181, 7194, 7208, 7223, 7238, 7254, 7270, 7287, 7305, 7322, 7339,\n",
      "       7357, 7373, 7388, 7403, 7412, 7421, 7431, 7442, 7453, 7461, 7468,\n",
      "       7476, 7485, 7494, 7503, 7513, 7523, 7532, 7542, 7545, 7546, 7548,\n",
      "       7549, 7550, 7551, 7552, 7553, 7554, 7556, 7559, 7563, 7566, 7567,\n",
      "       7568, 7569, 7571, 7574, 7577, 7580, 7582, 7585, 7586, 7587, 7589,\n",
      "       7592, 7596, 7601, 7604, 7607, 7610, 7614, 7617, 7618, 7619, 7620,\n",
      "       7621, 7623, 7626, 7630, 7635, 7641, 7646, 7651, 7655, 7660, 7663,\n",
      "       7664, 7666, 7667, 7669, 7672, 7675, 7677, 7679, 7682, 7686, 7691,\n",
      "       7693, 7695, 7696, 7697, 7699, 7702, 7705, 7707, 7708, 7710, 7712,\n",
      "       7714, 7717, 7721, 7726, 7731, 7737, 7744, 7752, 7761, 7770, 7778,\n",
      "       7785, 7792, 7797, 7803, 7809, 7816, 7824, 7833, 7843, 7849, 7856,\n",
      "       7863, 7871, 7880, 7890, 7901, 7913, 7924, 7934, 7944, 7954, 7965,\n",
      "       7975, 7986, 7996, 8006, 8015, 8025, 8036, 8048, 8059, 8071, 8079,\n",
      "       8087, 8093, 8098, 8104, 8111, 8119, 8128, 8138, 8149, 8161, 8174,\n",
      "       8184, 8193, 8202, 8209, 8217, 8226, 8233, 8241, 8250, 8260, 8271,\n",
      "       8283, 8293, 8301, 8310, 8316, 8323, 8330, 8338, 8344, 8351, 8358,\n",
      "       8364, 8370, 8377, 8383, 8389, 8393, 8397, 8401, 8404, 8406, 8409,\n",
      "       8412]),)\n",
      "[  26   54   83  113  144  175  207  240  274  309  344  376  407  438\n",
      "  470  503  534  566  599  632  666  701  736  772  809  847  885  923\n",
      "  961  997 1034 1071 1108 1146 1184 1223 1263 1304 1346 1385 1423 1462\n",
      " 1501 1541 1581 1620 1656 1693 1729 1766 1803 1840 1874 1908 1943 1977\n",
      " 2008 2040 2068 2097 2127 2158 2186 2215 2245 2276 2308 2339 2365 2390\n",
      " 2416 2439 2455 2471 2488 2506 2525 2542 2560 2575 2590 2606 2623 2641\n",
      " 2660 2678 2697 2716 2735 2753 2771 2789 2796 2804 2813 2821 2828 2836\n",
      " 2845 2855 2865 2875 2885 2890 2896 2901 2907 2911 2916 2921 2927 2934\n",
      " 2939 2943 2946 2949 2953 2954 2956 2957 2958 2959 2960 2961 2962 2963\n",
      " 2965 2968 2972 2977 2983 2988 2994 3001 3009 3017 3026 3034 3041 3049\n",
      " 3057 3066 3076 3077 3079 3081 3083 3086 3090 3095 3096 3098 3101 3102\n",
      " 3103 3105 3106 3107 3108 3109 3111 3113 3114 3116 3119 3123 3127 3130\n",
      " 3134 3139 3144 3150 3157 3162 3168 3174 3181 3189 3198 3208 3219 3230\n",
      " 3242 3253 3265 3278 3291 3304 3317 3331 3345 3355 3365 3376 3388 3401\n",
      " 3415 3424 3434 3445 3455 3466 3478 3491 3505 3520 3536 3548 3561 3575\n",
      " 3590 3600 3609 3617 3626 3636 3646 3656 3664 3673 3683 3694 3706 3719\n",
      " 3733 3748 3763 3777 3790 3801 3813 3826 3840 3852 3865 3874 3884 3895\n",
      " 3907 3919 3931 3944 3958 3973 3987 4002 4018 4031 4043 4056 4069 4083\n",
      " 4097 4112 4128 4145 4163 4181 4198 4216 4235 4255 4276 4297 4319 4342\n",
      " 4365 4389 4414 4434 4454 4475 4495 4516 4538 4561 4585 4605 4624 4643\n",
      " 4662 4679 4697 4715 4732 4749 4767 4786 4806 4826 4843 4860 4878 4896\n",
      " 4913 4928 4943 4959 4975 4990 5004 5018 5033 5049 5061 5074 5087 5101\n",
      " 5113 5125 5136 5146 5157 5168 5176 5185 5195 5204 5214 5225 5231 5238\n",
      " 5245 5253 5261 5270 5280 5290 5301 5310 5314 5318 5322 5323 5324 5326\n",
      " 5327 5329 5331 5334 5338 5340 5343 5345 5348 5350 5353 5356 5360 5364\n",
      " 5369 5375 5380 5385 5391 5397 5403 5410 5418 5427 5436 5446 5456 5463\n",
      " 5468 5474 5481 5487 5492 5497 5503 5508 5514 5521 5529 5538 5548 5559\n",
      " 5571 5584 5597 5611 5624 5637 5651 5665 5679 5694 5709 5725 5742 5760\n",
      " 5774 5789 5805 5820 5836 5853 5870 5888 5905 5923 5940 5957 5972 5986\n",
      " 6001 6016 6032 6049 6067 6084 6101 6118 6136 6155 6175 6193 6209 6217\n",
      " 6226 6236 6246 6256 6266 6277 6289 6302 6311 6320 6329 6339 6350 6362\n",
      " 6372 6381 6389 6394 6399 6405 6409 6414 6420 6426 6431 6436 6442 6449\n",
      " 6457 6464 6471 6479 6488 6496 6505 6515 6526 6538 6550 6563 6574 6586\n",
      " 6598 6610 6623 6634 6646 6659 6673 6687 6702 6718 6733 6747 6759 6772\n",
      " 6786 6799 6813 6827 6841 6856 6870 6885 6900 6913 6927 6941 6956 6968\n",
      " 6981 6993 7005 7015 7026 7038 7050 7062 7075 7089 7103 7116 7129 7143\n",
      " 7156 7168 7181 7194 7208 7223 7238 7254 7270 7287 7305 7322 7339 7357\n",
      " 7373 7388 7403 7412 7421 7431 7442 7453 7461 7468 7476 7485 7494 7503\n",
      " 7513 7523 7532 7542 7545 7546 7548 7549 7550 7551 7552 7553 7554 7556\n",
      " 7559 7563 7566 7567 7568 7569 7571 7574 7577 7580 7582 7585 7586 7587\n",
      " 7589 7592 7596 7601 7604 7607 7610 7614 7617 7618 7619 7620 7621 7623\n",
      " 7626 7630 7635 7641 7646 7651 7655 7660 7663 7664 7666 7667 7669 7672\n",
      " 7675 7677 7679 7682 7686 7691 7693 7695 7696 7697 7699 7702 7705 7707\n",
      " 7708 7710 7712 7714 7717 7721 7726 7731 7737 7744 7752 7761 7770 7778\n",
      " 7785 7792 7797 7803 7809 7816 7824 7833 7843 7849 7856 7863 7871 7880\n",
      " 7890 7901 7913 7924 7934 7944 7954 7965 7975 7986 7996 8006 8015 8025\n",
      " 8036 8048 8059 8071 8079 8087 8093 8098 8104 8111 8119 8128 8138 8149\n",
      " 8161 8174 8184 8193 8202 8209 8217 8226 8233 8241 8250 8260 8271 8283\n",
      " 8293 8301 8310 8316 8323 8330 8338 8344 8351 8358 8364 8370 8377 8383\n",
      " 8389 8393 8397 8401 8404 8406 8409 8412]\n",
      "[ 76.  77.  78. ... 798. 799. 800.]\n",
      "[ 81.  82.  83. ... 798. 799. 800.]\n",
      "[107. 108. 109. 110. 111. 112. 113. 114. 115. 116. 117. 118. 119. 120.\n",
      " 121. 122. 123. 124. 125. 126. 127. 128. 129. 130. 131. 132. 133. 134.\n",
      " 135. 136. 137. 138. 139. 140. 141. 142. 143. 144. 145. 146. 147. 148.\n",
      " 149. 150. 151. 152. 153. 154. 155. 156. 157. 158. 159. 160. 161. 162.\n",
      " 163. 164. 165. 166. 167. 168. 169. 170. 171. 172. 173. 174. 175. 176.\n",
      " 177. 178. 179. 180. 181. 182. 183. 184. 185. 186. 187. 188. 189. 190.\n",
      " 191. 192. 193. 194. 195. 196. 197. 198. 199. 200. 201. 202. 203. 204.\n",
      " 205. 206. 207. 208. 209. 210. 211. 212. 213. 214. 215. 216. 217. 218.\n",
      " 219. 220. 221. 222. 223. 224. 225. 226. 227. 228. 229. 230. 231. 232.\n",
      " 233. 234. 235. 236. 237. 238. 239. 240. 241. 242. 243. 244. 245. 246.\n",
      " 247. 248. 249. 250. 251. 252. 253. 254. 255. 256. 257. 258. 259. 260.\n",
      " 261. 262. 263. 264. 265. 266. 267. 268. 269. 270. 271. 272. 273. 274.\n",
      " 275. 276. 277. 278. 279. 280. 281. 282. 283. 284. 285. 286. 287. 288.\n",
      " 289. 290. 291. 292. 293. 294. 295. 296. 297. 298. 299. 300. 301. 302.\n",
      " 303. 304. 305. 306. 307. 308. 309. 310. 311. 312. 313. 314. 315. 316.\n",
      " 317. 318. 319. 320. 321. 322. 323. 324. 325. 326. 327. 328. 329. 330.\n",
      " 331. 332. 333. 334. 335. 336. 337. 338. 339. 340. 341. 342. 343. 344.\n",
      " 345. 346. 347. 348. 349. 350. 351. 352. 353. 354. 355. 356. 357. 358.\n",
      " 359. 360. 361. 362. 363. 364. 365. 366. 367. 368. 369. 370. 371. 372.\n",
      " 373. 374. 375. 376. 377. 378. 379. 380. 381. 382. 383. 384. 385. 386.\n",
      " 387. 388. 389. 390. 391. 392. 393. 394. 395. 396. 397. 398. 399. 400.\n",
      " 401. 402. 403. 404. 405. 406. 407. 408. 409. 410. 411. 412. 413. 414.\n",
      " 415. 416. 417. 418. 419. 420. 421. 422. 423. 424. 425. 426. 427. 428.\n",
      " 429. 430. 431. 432. 433. 434. 435. 436. 437. 438. 439. 440. 441. 442.\n",
      " 443. 444. 445. 446. 447. 448. 449. 450. 451. 452. 453. 454. 455. 456.\n",
      " 457. 458. 459. 460. 461. 462. 463. 464. 465. 466. 467. 468. 469. 470.\n",
      " 471. 472. 473. 474. 475. 476. 477. 478. 479. 480. 481. 482. 483. 484.\n",
      " 485. 486. 487. 488. 489. 490. 491. 492. 493. 494. 495. 496. 497. 498.\n",
      " 499. 500. 501. 502. 503. 504. 505. 506. 507. 508. 509. 510. 511. 512.\n",
      " 513. 514. 515. 516. 517. 518. 519. 520. 521. 522. 523. 524. 525. 526.\n",
      " 527. 528. 529. 530. 531. 532. 533. 534. 535. 536. 537. 538. 539. 540.\n",
      " 541. 542. 543. 544. 545. 546. 547. 548. 549. 550. 551. 552. 553. 554.\n",
      " 555. 556. 557. 558. 559. 560. 561. 562. 563. 564. 565. 566. 567. 568.\n",
      " 569. 570. 571. 572. 573. 574. 575. 576. 577. 578. 579. 580. 581. 582.\n",
      " 583. 584. 585. 586. 587. 588. 589. 590. 591. 592. 593. 594. 595. 596.\n",
      " 597. 598. 599. 600. 601. 602. 603. 604. 605. 606. 607. 608. 609. 610.\n",
      " 611. 612. 613. 614. 615. 616. 617. 618. 619. 620. 621. 622. 623. 624.\n",
      " 625. 626. 627. 628. 629. 630. 631. 632. 633. 634. 635. 636. 637. 638.\n",
      " 639. 640. 641. 642. 643. 644. 645. 646. 647. 648. 649. 650. 651. 652.\n",
      " 653. 654. 655. 656. 657. 658. 659. 660. 661. 662. 663. 664. 665. 666.\n",
      " 667. 668. 669. 670. 671. 672. 673. 674. 675. 676. 677. 678. 679. 680.\n",
      " 681. 682. 683. 684. 685. 686. 687. 688. 689. 690. 691. 692. 693. 694.\n",
      " 695. 696. 697. 698. 699. 700. 701. 702. 703. 704. 705. 706. 707. 708.\n",
      " 709. 710. 711. 712. 713. 714. 715. 716. 717. 718. 719. 720. 721. 722.\n",
      " 723. 724. 725. 726. 727. 728. 729. 730. 731. 732. 733. 734. 735. 736.\n",
      " 737. 738. 739. 740. 741. 742. 743. 744. 745. 746. 747. 748. 749. 750.\n",
      " 751. 752. 753. 754. 755. 756. 757. 758. 759. 760. 761. 762. 763. 764.\n",
      " 765. 766. 767. 768. 769. 770. 771. 772. 773. 774. 775. 776. 777. 778.\n",
      " 779. 780. 781. 782. 783. 784. 785. 786. 787. 788. 789. 790. 791. 792.\n",
      " 793. 794. 795. 796. 797. 798. 799. 800.]\n",
      "107.0\n",
      "11.0\n",
      "1387.0\n"
     ]
    },
    {
     "ename": "TypeError",
     "evalue": "'NoneType' object is not subscriptable",
     "output_type": "error",
     "traceback": [
      "\u001b[0;31m---------------------------------------------------------------------------\u001b[0m",
      "\u001b[0;31mTypeError\u001b[0m                                 Traceback (most recent call last)",
      "\u001b[0;32m<ipython-input-61-227d44ff889e>\u001b[0m in \u001b[0;36m<module>\u001b[0;34m\u001b[0m\n\u001b[1;32m      9\u001b[0m \u001b[0mn10\u001b[0m \u001b[0;34m=\u001b[0m \u001b[0mn\u001b[0m\u001b[0;34m-\u001b[0m\u001b[0mn11\u001b[0m\u001b[0;34m\u001b[0m\u001b[0;34m\u001b[0m\u001b[0m\n\u001b[1;32m     10\u001b[0m \u001b[0;34m\u001b[0m\u001b[0m\n\u001b[0;32m---> 11\u001b[0;31m \u001b[0mtau_twosided_ci\u001b[0m\u001b[0;34m(\u001b[0m\u001b[0mn11\u001b[0m\u001b[0;34m,\u001b[0m \u001b[0mn10\u001b[0m\u001b[0;34m,\u001b[0m \u001b[0mn01\u001b[0m\u001b[0;34m,\u001b[0m \u001b[0mn00\u001b[0m\u001b[0;34m,\u001b[0m \u001b[0;36m0.05\u001b[0m\u001b[0;34m,\u001b[0m \u001b[0mexact\u001b[0m\u001b[0;34m=\u001b[0m\u001b[0;32mFalse\u001b[0m\u001b[0;34m,\u001b[0m \u001b[0mreps\u001b[0m\u001b[0;34m=\u001b[0m\u001b[0;36m1\u001b[0m\u001b[0;34m)\u001b[0m\u001b[0;34m\u001b[0m\u001b[0;34m\u001b[0m\u001b[0m\n\u001b[0m",
      "\u001b[0;32m<ipython-input-22-9b4f50fa8c89>\u001b[0m in \u001b[0;36mtau_twosided_ci\u001b[0;34m(n11, n10, n01, n00, alpha, exact, max_combinations, reps)\u001b[0m\n\u001b[1;32m     39\u001b[0m \u001b[0;34m\u001b[0m\u001b[0m\n\u001b[1;32m     40\u001b[0m     \u001b[0;32mif\u001b[0m \u001b[0mm\u001b[0m \u001b[0;34m>\u001b[0m \u001b[0;34m(\u001b[0m\u001b[0mn\u001b[0m\u001b[0;34m/\u001b[0m\u001b[0;36m2\u001b[0m\u001b[0;34m)\u001b[0m\u001b[0;34m:\u001b[0m\u001b[0;34m\u001b[0m\u001b[0;34m\u001b[0m\u001b[0m\n\u001b[0;32m---> 41\u001b[0;31m         \u001b[0mci\u001b[0m \u001b[0;34m=\u001b[0m \u001b[0mtau_twoside_less_treated\u001b[0m\u001b[0;34m(\u001b[0m\u001b[0mn01\u001b[0m\u001b[0;34m,\u001b[0m \u001b[0mn00\u001b[0m\u001b[0;34m,\u001b[0m \u001b[0mn11\u001b[0m\u001b[0;34m,\u001b[0m \u001b[0mn10\u001b[0m\u001b[0;34m,\u001b[0m \u001b[0malpha\u001b[0m\u001b[0;34m,\u001b[0m \u001b[0mreps\u001b[0m\u001b[0;34m)\u001b[0m\u001b[0;34m\u001b[0m\u001b[0;34m\u001b[0m\u001b[0m\n\u001b[0m\u001b[1;32m     42\u001b[0m         \u001b[0mtau_lower\u001b[0m \u001b[0;34m=\u001b[0m \u001b[0;34m-\u001b[0m\u001b[0mci\u001b[0m\u001b[0;34m[\u001b[0m\u001b[0;34m\"tau_upper\"\u001b[0m\u001b[0;34m]\u001b[0m\u001b[0;34m\u001b[0m\u001b[0;34m\u001b[0m\u001b[0m\n\u001b[1;32m     43\u001b[0m         \u001b[0mtau_upper\u001b[0m \u001b[0;34m=\u001b[0m \u001b[0;34m-\u001b[0m\u001b[0mci\u001b[0m\u001b[0;34m[\u001b[0m\u001b[0;34m\"tau_lower\"\u001b[0m\u001b[0;34m]\u001b[0m\u001b[0;34m\u001b[0m\u001b[0;34m\u001b[0m\u001b[0m\n",
      "\u001b[0;32m<ipython-input-10-187f222495a6>\u001b[0m in \u001b[0;36mtau_twoside_less_treated\u001b[0;34m(n11, n10, n01, n00, alpha, nperm)\u001b[0m\n\u001b[1;32m      7\u001b[0m         \u001b[0mZ_all\u001b[0m \u001b[0;34m=\u001b[0m \u001b[0mcomb\u001b[0m\u001b[0;34m(\u001b[0m\u001b[0mn\u001b[0m\u001b[0;34m,\u001b[0m \u001b[0mm\u001b[0m\u001b[0;34m,\u001b[0m \u001b[0mnperm\u001b[0m\u001b[0;34m)\u001b[0m\u001b[0;34m\u001b[0m\u001b[0;34m\u001b[0m\u001b[0m\n\u001b[1;32m      8\u001b[0m \u001b[0;34m\u001b[0m\u001b[0m\n\u001b[0;32m----> 9\u001b[0;31m     \u001b[0mci_lower\u001b[0m \u001b[0;34m=\u001b[0m \u001b[0mtau_twoside_lower\u001b[0m\u001b[0;34m(\u001b[0m\u001b[0mn11\u001b[0m\u001b[0;34m,\u001b[0m \u001b[0mn10\u001b[0m\u001b[0;34m,\u001b[0m \u001b[0mn01\u001b[0m\u001b[0;34m,\u001b[0m \u001b[0mn00\u001b[0m\u001b[0;34m,\u001b[0m \u001b[0malpha\u001b[0m\u001b[0;34m,\u001b[0m \u001b[0mZ_all\u001b[0m\u001b[0;34m)\u001b[0m\u001b[0;34m\u001b[0m\u001b[0;34m\u001b[0m\u001b[0m\n\u001b[0m\u001b[1;32m     10\u001b[0m     \u001b[0mci_upper\u001b[0m \u001b[0;34m=\u001b[0m \u001b[0mtau_twoside_lower\u001b[0m\u001b[0;34m(\u001b[0m\u001b[0mn10\u001b[0m\u001b[0;34m,\u001b[0m \u001b[0mn11\u001b[0m\u001b[0;34m,\u001b[0m \u001b[0mn00\u001b[0m\u001b[0;34m,\u001b[0m \u001b[0mn01\u001b[0m\u001b[0;34m,\u001b[0m \u001b[0malpha\u001b[0m\u001b[0;34m,\u001b[0m \u001b[0mZ_all\u001b[0m\u001b[0;34m)\u001b[0m\u001b[0;34m\u001b[0m\u001b[0;34m\u001b[0m\u001b[0m\n\u001b[1;32m     11\u001b[0m \u001b[0;34m\u001b[0m\u001b[0m\n",
      "\u001b[0;32m<ipython-input-9-ff68e2debe18>\u001b[0m in \u001b[0;36mtau_twoside_lower\u001b[0;34m(n11, n10, n01, n00, alpha, Z_all)\u001b[0m\n\u001b[1;32m     16\u001b[0m         \u001b[0mtau_min_N11\u001b[0m \u001b[0;34m=\u001b[0m \u001b[0mtau_lower_N11_twoside\u001b[0m\u001b[0;34m(\u001b[0m\u001b[0mn11\u001b[0m\u001b[0;34m,\u001b[0m \u001b[0mn10\u001b[0m\u001b[0;34m,\u001b[0m \u001b[0mn01\u001b[0m\u001b[0;34m,\u001b[0m \u001b[0mn00\u001b[0m\u001b[0;34m,\u001b[0m \u001b[0mN11\u001b[0m\u001b[0;34m,\u001b[0m \u001b[0mZ_all\u001b[0m\u001b[0;34m,\u001b[0m \u001b[0malpha\u001b[0m\u001b[0;34m)\u001b[0m\u001b[0;34m\u001b[0m\u001b[0;34m\u001b[0m\u001b[0m\n\u001b[1;32m     17\u001b[0m         \u001b[0;31m# assumes that tau_lower_N11_twoside output is a dictionary\u001b[0m\u001b[0;34m\u001b[0m\u001b[0;34m\u001b[0m\u001b[0;34m\u001b[0m\u001b[0m\n\u001b[0;32m---> 18\u001b[0;31m         \u001b[0mrand_test_total\u001b[0m \u001b[0;34m=\u001b[0m \u001b[0mrand_test_total\u001b[0m \u001b[0;34m+\u001b[0m \u001b[0mtau_min_N11\u001b[0m\u001b[0;34m[\u001b[0m\u001b[0;34m\"rand_test_num\"\u001b[0m\u001b[0;34m]\u001b[0m\u001b[0;34m\u001b[0m\u001b[0;34m\u001b[0m\u001b[0m\n\u001b[0m\u001b[1;32m     19\u001b[0m         \u001b[0;32mif\u001b[0m\u001b[0;34m(\u001b[0m\u001b[0mtau_min_N11\u001b[0m\u001b[0;34m[\u001b[0m\u001b[0;34m\"tau_min\"\u001b[0m\u001b[0;34m]\u001b[0m \u001b[0;34m<\u001b[0m \u001b[0mtau_min\u001b[0m\u001b[0;34m)\u001b[0m\u001b[0;34m:\u001b[0m\u001b[0;34m\u001b[0m\u001b[0;34m\u001b[0m\u001b[0m\n\u001b[1;32m     20\u001b[0m             \u001b[0mN_accept_min\u001b[0m \u001b[0;34m=\u001b[0m \u001b[0mtau_min_N11\u001b[0m\u001b[0;34m[\u001b[0m\u001b[0;34m\"N_accept_min\"\u001b[0m\u001b[0;34m]\u001b[0m\u001b[0;34m\u001b[0m\u001b[0;34m\u001b[0m\u001b[0m\n",
      "\u001b[0;31mTypeError\u001b[0m: 'NoneType' object is not subscriptable"
     ]
    }
   ],
   "source": [
    "# Regeneron data from \n",
    "# https://investor.regeneron.com/news-releases/news-release-details/phase-3-prevention-trial-showed-81-reduced-risk-symptomatic-sars\n",
    "n=753\n",
    "m=752\n",
    "N=n+m\n",
    "n01 = 59\n",
    "n11 = 11\n",
    "n00 = m-n01\n",
    "n10 = n-n11\n",
    "\n",
    "tau_twosided_ci(n11, n10, n01, n00, 0.05, exact=False, reps=1)"
   ]
  },
  {
   "cell_type": "code",
   "execution_count": 9,
   "metadata": {},
   "outputs": [
    {
     "data": {
      "text/plain": [
       "{'tau_lower': -0.3,\n",
       " 'N_accept_lower': array([3, 1, 4, 2]),\n",
       " 'tau_upper': 0.2,\n",
       " 'N_accept_upper': array([0, 5, 3, 2]),\n",
       " 'rand_test_total': 60}"
      ]
     },
     "execution_count": 9,
     "metadata": {},
     "output_type": "execute_result"
    }
   ],
   "source": [
    "def tau_twoside_lower(n11, n10, n01, n00, alpha, Z_all):\n",
    "    n = n11+n10+n01+n00\n",
    "    m = n11+n10\n",
    "    tau_obs = n11/m - n01/(n-m)\n",
    "    ntau_obs = n*n11/m - n* n01/(n-m)\n",
    "    tau_min = math.inf\n",
    "    tau_max = -math.inf\n",
    "    N_accept_min = np.nan\n",
    "    N_accept_max = np.nan\n",
    "    rand_test_total = 0\n",
    "    \n",
    "    for N11 in np.arange(0, min((n11+n01), n+ntau_obs)+1):\n",
    "        N01_vec0 = np.arange(0, n-N11+1)[np.arange(0, (n-N11)+1) >= (-ntau_obs)]\n",
    "        if len(list(N01_vec0)) == 0:\n",
    "            break\n",
    "        tau_min_N11 = tau_lower_N11_twoside(n11, n10, n01, n00, N11, Z_all, alpha)\n",
    "        # assumes that tau_lower_N11_twoside output is a dictionary\n",
    "        rand_test_total = rand_test_total + tau_min_N11[\"rand_test_num\"] \n",
    "        if(tau_min_N11[\"tau_min\"] < tau_min):\n",
    "            N_accept_min = tau_min_N11[\"N_accept_min\"]\n",
    "        if(tau_min_N11[\"tau_max\"] > tau_max):\n",
    "            N_accept_max = tau_min_N11[\"N_accept_max\"]\n",
    "        tau_min = min(tau_min, tau_min_N11[\"tau_min\"])\n",
    "        tau_max = max(tau_max, tau_min_N11[\"tau_max\"])\n",
    "    \n",
    "    tau_lower = tau_min\n",
    "    tau_upper = tau_max\n",
    "    N_accept_lower = N_accept_min\n",
    "    N_accept_upper = N_accept_max \n",
    "                      \n",
    "    dict_output = {'tau_lower':tau_lower, 'N_accept_lower':N_accept_lower, \n",
    "                   'tau_upper':tau_upper, 'N_accept_upper':N_accept_upper,\n",
    "                  'rand_test_total':rand_test_total}\n",
    "    return dict_output\n",
    "\n",
    "tau_twoside_lower(n11, n10, n01, n00, 0.05, Z_all)"
   ]
  },
  {
   "cell_type": "code",
   "execution_count": 10,
   "metadata": {},
   "outputs": [
    {
     "data": {
      "text/plain": [
       "{'tau_lower': -0.3,\n",
       " 'tau_upper': 0.6,\n",
       " 'N_accept_lower': array([4, 0, 3, 3]),\n",
       " 'N_accept_upper': array([3, 6, 0, 1]),\n",
       " 'rand_test_total': 90}"
      ]
     },
     "execution_count": 10,
     "metadata": {},
     "output_type": "execute_result"
    }
   ],
   "source": [
    "def tau_twoside_less_treated(n11, n10, n01, n00, alpha, nperm):\n",
    "    n = n11 + n10 + n01 + n00\n",
    "    m = n11 + n10\n",
    "    if scipy.special.comb(n, m, exact=True) <= nperm:\n",
    "        Z_all = nchoosem(n, m)\n",
    "    else:\n",
    "        Z_all = comb(n, m, nperm)\n",
    "    \n",
    "    ci_lower = tau_twoside_lower(n11, n10, n01, n00, alpha, Z_all)\n",
    "    ci_upper = tau_twoside_lower(n10, n11, n00, n01, alpha, Z_all)\n",
    "\n",
    "    # this implementation depends on tau_twoside_lower returning a dictionary\n",
    "    rand_test_total = ci_lower[\"rand_test_total\"] + ci_upper[\"rand_test_total\"]\n",
    "\n",
    "\n",
    "    tau_lower = min(ci_lower[\"tau_lower\"], -1 * ci_upper[\"tau_upper\"])\n",
    "    tau_upper = max(ci_lower[\"tau_upper\"], -1 * ci_upper[\"tau_lower\"])\n",
    "\n",
    "\n",
    "    if tau_lower == ci_lower[\"tau_lower\"]:\n",
    "        N_accept_lower = ci_lower[\"N_accept_lower\"]\n",
    "    else:\n",
    "        # reverse N_accept_upper\n",
    "        N_accept_lower = np.flipud(ci_upper[\"N_accept_upper\"])\n",
    "\n",
    "    if tau_upper == -1 * ci_upper[\"tau_lower\"]:\n",
    "        # reverse N_accept_lower\n",
    "        N_accept_upper = np.flipud(ci_upper[\"N_accept_lower\"])\n",
    "    else:\n",
    "        N_accept_upper = ci_lower[\"N_accept_upper\"]\n",
    "\n",
    "    return {\"tau_lower\": tau_lower, \"tau_upper\": tau_upper,  \"N_accept_lower\": N_accept_lower, \"N_accept_upper\": N_accept_upper, \"rand_test_total\": rand_test_total}\n",
    "\n",
    "tau_twoside_less_treated(n11, n10, n01, n00, 0.05, n)"
   ]
  },
  {
   "cell_type": "code",
   "execution_count": 11,
   "metadata": {},
   "outputs": [
    {
     "data": {
      "text/plain": [
       "{'tau_lower': -0.4,\n",
       " 'tau_upper': 0.6,\n",
       " 'N_accept_lower': array([4, 0, 4, 2]),\n",
       " 'N_accept_upper': array([3, 6, 0, 1]),\n",
       " 'rand_test_total': 90}"
      ]
     },
     "execution_count": 11,
     "metadata": {},
     "output_type": "execute_result"
    }
   ],
   "source": [
    "def tau_twoside(n11, n10, n01, n00, alpha, nperm):\n",
    "    n = n11 + n10 + n01 + n00\n",
    "    m = n11 + n10\n",
    "    if m > (n/2):\n",
    "        ci = tau_twoside_less_treated(n01, n00, n11, n10, alpha, nperm)\n",
    "        tau_lower = -ci[\"tau_upper\"] \n",
    "        tau_upper = -ci[\"tau_lower\"]\n",
    "        N_accept_lower = ci[\"N_accept_lower\"][[0, 2, 1, 3]]\n",
    "        N_accept_upper = ci[\"N_accept_upper\"][[0, 2, 1, 3]]\n",
    "        rand_test_total = ci[\"rand_test_total\"]\n",
    "    else:\n",
    "        ci = tau_twoside_less_treated(n11, n10, n01, n00, alpha, nperm)\n",
    "        tau_lower = ci[\"tau_lower\"]\n",
    "        tau_upper = ci[\"tau_upper\"]  \n",
    "        N_accept_lower = ci[\"N_accept_lower\"]\n",
    "        N_accept_upper = ci[\"N_accept_upper\"]\n",
    "        rand_test_total = ci[\"rand_test_total\"]\n",
    "\n",
    "    return {\"tau_lower\": tau_lower, \"tau_upper\": tau_upper, \"N_accept_lower\": N_accept_lower, \"N_accept_upper\": N_accept_upper, \"rand_test_total\": rand_test_total}\n",
    "\n",
    "tau_twoside(n11, n10, n01, n00, 0.05, n)"
   ]
  },
  {
   "cell_type": "code",
   "execution_count": null,
   "metadata": {},
   "outputs": [],
   "source": [
    "tau_twoside(6, 0, 11, 3, .05, 10**5)"
   ]
  },
  {
   "cell_type": "code",
   "execution_count": null,
   "metadata": {},
   "outputs": [],
   "source": [
    "# testing output with Kanika\n",
    "n00 = 2\n",
    "n01 = 3\n",
    "n10 = 4\n",
    "n11 = 1\n",
    "m = n10 + n11 #m is small n\n",
    "N = n00 + n01 + n10 + n11\n",
    "alpha = 0.05\n",
    "Z_all = nchoosem(N, m)\n",
    "obs_tau = n11/m - n01/(N-m)\n",
    "Z_all = nchoosem(N,m)\n",
    "N11 = 3\n",
    "output = tau_twoside_lower(n11, n10, n01, n00, alpha, Z_all)\n",
    "output"
   ]
  },
  {
   "cell_type": "code",
   "execution_count": null,
   "metadata": {},
   "outputs": [],
   "source": [
    "# testing output with Kanika pt. 2\n",
    "n00 = 2\n",
    "n01 = 3\n",
    "n10 = 4\n",
    "n11 = 1\n",
    "m = n10 + n11 #m is small n\n",
    "N = n00 + n01 + n10 + n11\n",
    "alpha = 0.05\n",
    "Z_all = nchoosem(N, m)\n",
    "obs_tau = n11/m - n01/(N-m)\n",
    "Z_all = nchoosem(N,m)\n",
    "N11 = 3\n",
    "output = tau_twoside_less_treated(n11, n10, n01, n00, alpha, 10000)\n",
    "output"
   ]
  },
  {
   "cell_type": "markdown",
   "metadata": {
    "tags": []
   },
   "source": [
    "output[‘tau_lower’] == -0.7 and np.all(output[‘N_accept_lower’] ==  np.array([1,0,7,2])) and output[‘tau_upper’] == -0.4 and np.all(output[‘N_accept_upper’] == np.array([0,1,7,2])) and output[‘rand_test_total’] == 25\n",
    "\n"
   ]
  },
  {
   "cell_type": "markdown",
   "metadata": {},
   "source": [
    "and the second chunk output[‘tau_lower’] == -0.7 and output[‘tau_upper’] == 0.2 and np.all(output[‘N_accept_lower’] == np.array([1,0,7,2])) and np.all(output[‘N_accept_upper’] == np.array([4,2,0,4])) and output[‘rand_test_total’] == 81\n",
    "\n"
   ]
  },
  {
   "cell_type": "code",
   "execution_count": null,
   "metadata": {},
   "outputs": [],
   "source": [
    "# hold for now\n",
    "while (N10 <= n-N11-N01).any() and (N01 <= (n-N11)).any():\n",
    "    if N10 <= N01 + ntau_obs:\n",
    "        pl = pval_two(n, m, np.array([N11, N10, N01, n-(N11+N10+N01)]), Z_all, tau_obs)\n",
    "        rand_test_num += 1"
   ]
  },
  {
   "cell_type": "code",
   "execution_count": 22,
   "metadata": {},
   "outputs": [],
   "source": [
    "def tau_twosided_ci(n11, n10, n01, n00, alpha, exact=True,\n",
    "                   max_combinations=10**5, reps=10**3):\n",
    "    \"\"\"\n",
    "    FIX.\n",
    "\n",
    "    Checking to see if the inputs of the subject\n",
    "    groups are able to be passed in correctly.\n",
    "\n",
    "    Parameters\n",
    "    ----------\n",
    "    n11 : int\n",
    "        number of people who fall under group n11\n",
    "    n10 : int\n",
    "        number of people who fall under group n10\n",
    "    n01 : int\n",
    "        number of people who fall under group n01\n",
    "    n00 : int\n",
    "        number of people who fall under group n00\n",
    "    N11 : array\n",
    "        values of all n11\n",
    "    Z_all : matrix\n",
    "        the output from the function nchoosem\n",
    "    alpha : float\n",
    "        the alpha cutoff value desired\n",
    "\n",
    "    Returns\n",
    "    --------\n",
    "    compat : list\n",
    "        True or False values of compatible inputs\n",
    "    \"\"\"\n",
    "    n = n11 + n10 + n01 + n00\n",
    "    m = n11 + n10\n",
    "\n",
    "    if exact is True:\n",
    "        reps = scipy.special.comb(n, m, exact=True)\n",
    "        if reps > max_combinations:\n",
    "            raise ValueError(\n",
    "                \"Number of reps can't exceed max_combinations\")\n",
    "\n",
    "    if m > (n/2):\n",
    "        ci = tau_twoside_less_treated(n01, n00, n11, n10, alpha, reps)\n",
    "        tau_lower = -ci[\"tau_upper\"]\n",
    "        tau_upper = -ci[\"tau_lower\"]\n",
    "        N_accept_lower = ci[\"N_accept_lower\"][[0, 2, 1, 3]]\n",
    "        N_accept_upper = ci[\"N_accept_upper\"][[0, 2, 1, 3]]\n",
    "        rand_test_total = ci[\"rand_test_total\"]\n",
    "    else:\n",
    "        ci = tau_twoside_less_treated(n11, n10, n01, n00, alpha, reps)\n",
    "        tau_lower = ci[\"tau_lower\"]\n",
    "        tau_upper = ci[\"tau_upper\"]\n",
    "        N_accept_lower = ci[\"N_accept_lower\"]\n",
    "        N_accept_upper = ci[\"N_accept_upper\"]\n",
    "        rand_test_total = ci[\"rand_test_total\"]\n",
    "\n",
    "    bounds = [tau_lower*n, tau_upper*n]\n",
    "    allocation = [N_accept_lower, N_accept_upper]\n",
    "    tables_reps = [rand_test_total, reps]\n",
    "    return bounds, allocation, tables_reps"
   ]
  },
  {
   "cell_type": "code",
   "execution_count": 23,
   "metadata": {},
   "outputs": [
    {
     "data": {
      "text/plain": [
       "([-1.0, 14.0],\n",
       " [array([ 1.,  0.,  1., 14.]), array([ 1., 14.,  0.,  1.])],\n",
       " [103, 120])"
      ]
     },
     "execution_count": 23,
     "metadata": {},
     "output_type": "execute_result"
    }
   ],
   "source": [
    "# answer is same everytime bc exact=True\n",
    "tau_twosided_ci(1, 1, 1, 13, .05, exact=True, max_combinations=10**5)"
   ]
  },
  {
   "cell_type": "code",
   "execution_count": 14,
   "metadata": {},
   "outputs": [
    {
     "ename": "ValueError",
     "evalue": "Number of reps can't exceed max_combinations",
     "output_type": "error",
     "traceback": [
      "\u001b[0;31m---------------------------------------------------------------------------\u001b[0m",
      "\u001b[0;31mValueError\u001b[0m                                Traceback (most recent call last)",
      "\u001b[0;32m<ipython-input-14-d7b2386ab57d>\u001b[0m in \u001b[0;36m<module>\u001b[0;34m\u001b[0m\n\u001b[1;32m      1\u001b[0m \u001b[0;31m# errors bc exact=True and # combinations > max_combinations\u001b[0m\u001b[0;34m\u001b[0m\u001b[0;34m\u001b[0m\u001b[0;34m\u001b[0m\u001b[0m\n\u001b[0;32m----> 2\u001b[0;31m \u001b[0mtau_twosided_ci\u001b[0m\u001b[0;34m(\u001b[0m\u001b[0;36m1\u001b[0m\u001b[0;34m,\u001b[0m \u001b[0;36m1\u001b[0m\u001b[0;34m,\u001b[0m \u001b[0;36m1\u001b[0m\u001b[0;34m,\u001b[0m \u001b[0;36m13\u001b[0m\u001b[0;34m,\u001b[0m \u001b[0;36m.05\u001b[0m\u001b[0;34m,\u001b[0m \u001b[0mexact\u001b[0m\u001b[0;34m=\u001b[0m\u001b[0;32mTrue\u001b[0m\u001b[0;34m,\u001b[0m \u001b[0mmax_combinations\u001b[0m\u001b[0;34m=\u001b[0m\u001b[0;36m2\u001b[0m\u001b[0;34m)\u001b[0m\u001b[0;34m\u001b[0m\u001b[0;34m\u001b[0m\u001b[0m\n\u001b[0m",
      "\u001b[0;32m<ipython-input-12-9b4f50fa8c89>\u001b[0m in \u001b[0;36mtau_twosided_ci\u001b[0;34m(n11, n10, n01, n00, alpha, exact, max_combinations, reps)\u001b[0m\n\u001b[1;32m     35\u001b[0m         \u001b[0mreps\u001b[0m \u001b[0;34m=\u001b[0m \u001b[0mscipy\u001b[0m\u001b[0;34m.\u001b[0m\u001b[0mspecial\u001b[0m\u001b[0;34m.\u001b[0m\u001b[0mcomb\u001b[0m\u001b[0;34m(\u001b[0m\u001b[0mn\u001b[0m\u001b[0;34m,\u001b[0m \u001b[0mm\u001b[0m\u001b[0;34m,\u001b[0m \u001b[0mexact\u001b[0m\u001b[0;34m=\u001b[0m\u001b[0;32mTrue\u001b[0m\u001b[0;34m)\u001b[0m\u001b[0;34m\u001b[0m\u001b[0;34m\u001b[0m\u001b[0m\n\u001b[1;32m     36\u001b[0m         \u001b[0;32mif\u001b[0m \u001b[0mreps\u001b[0m \u001b[0;34m>\u001b[0m \u001b[0mmax_combinations\u001b[0m\u001b[0;34m:\u001b[0m\u001b[0;34m\u001b[0m\u001b[0;34m\u001b[0m\u001b[0m\n\u001b[0;32m---> 37\u001b[0;31m             raise ValueError(\n\u001b[0m\u001b[1;32m     38\u001b[0m                 \"Number of reps can't exceed max_combinations\")\n\u001b[1;32m     39\u001b[0m \u001b[0;34m\u001b[0m\u001b[0m\n",
      "\u001b[0;31mValueError\u001b[0m: Number of reps can't exceed max_combinations"
     ]
    }
   ],
   "source": [
    "# errors bc exact=True and # combinations > max_combinations\n",
    "tau_twosided_ci(1, 1, 1, 13, .05, exact=True, max_combinations=2)"
   ]
  },
  {
   "cell_type": "code",
   "execution_count": 24,
   "metadata": {},
   "outputs": [
    {
     "data": {
      "text/plain": [
       "([-1.0, 14.0],\n",
       " [array([ 1.,  0.,  1., 14.]), array([ 1., 14.,  0.,  1.])],\n",
       " [103, 3])"
      ]
     },
     "execution_count": 24,
     "metadata": {},
     "output_type": "execute_result"
    }
   ],
   "source": [
    "# answer varies due to random chance bc exact=False and # of reps is low\n",
    "tau_twosided_ci(1, 1, 1, 13, .05, exact=False, max_combinations=10**5, reps=3)"
   ]
  },
  {
   "cell_type": "code",
   "execution_count": 25,
   "metadata": {},
   "outputs": [
    {
     "data": {
      "text/plain": [
       "([-3.0, 13.0],\n",
       " [array([ 8.,  1.,  4., 11.]), array([ 7., 13.,  0.,  4.])],\n",
       " [421, 1000])"
      ]
     },
     "execution_count": 25,
     "metadata": {},
     "output_type": "execute_result"
    }
   ],
   "source": [
    "tau_twosided_ci(8, 4, 5, 7, 0.05, exact=False)"
   ]
  },
  {
   "cell_type": "code",
   "execution_count": 26,
   "metadata": {},
   "outputs": [
    {
     "ename": "IndexError",
     "evalue": "index 0 is out of bounds for axis 0 with size 0",
     "output_type": "error",
     "traceback": [
      "\u001b[0;31m---------------------------------------------------------------------------\u001b[0m",
      "\u001b[0;31mIndexError\u001b[0m                                Traceback (most recent call last)",
      "\u001b[0;32m<ipython-input-26-227d44ff889e>\u001b[0m in \u001b[0;36m<module>\u001b[0;34m\u001b[0m\n\u001b[1;32m      9\u001b[0m \u001b[0mn10\u001b[0m \u001b[0;34m=\u001b[0m \u001b[0mn\u001b[0m\u001b[0;34m-\u001b[0m\u001b[0mn11\u001b[0m\u001b[0;34m\u001b[0m\u001b[0;34m\u001b[0m\u001b[0m\n\u001b[1;32m     10\u001b[0m \u001b[0;34m\u001b[0m\u001b[0m\n\u001b[0;32m---> 11\u001b[0;31m \u001b[0mtau_twosided_ci\u001b[0m\u001b[0;34m(\u001b[0m\u001b[0mn11\u001b[0m\u001b[0;34m,\u001b[0m \u001b[0mn10\u001b[0m\u001b[0;34m,\u001b[0m \u001b[0mn01\u001b[0m\u001b[0;34m,\u001b[0m \u001b[0mn00\u001b[0m\u001b[0;34m,\u001b[0m \u001b[0;36m0.05\u001b[0m\u001b[0;34m,\u001b[0m \u001b[0mexact\u001b[0m\u001b[0;34m=\u001b[0m\u001b[0;32mFalse\u001b[0m\u001b[0;34m,\u001b[0m \u001b[0mreps\u001b[0m\u001b[0;34m=\u001b[0m\u001b[0;36m1\u001b[0m\u001b[0;34m)\u001b[0m\u001b[0;34m\u001b[0m\u001b[0;34m\u001b[0m\u001b[0m\n\u001b[0m",
      "\u001b[0;32m<ipython-input-22-9b4f50fa8c89>\u001b[0m in \u001b[0;36mtau_twosided_ci\u001b[0;34m(n11, n10, n01, n00, alpha, exact, max_combinations, reps)\u001b[0m\n\u001b[1;32m     39\u001b[0m \u001b[0;34m\u001b[0m\u001b[0m\n\u001b[1;32m     40\u001b[0m     \u001b[0;32mif\u001b[0m \u001b[0mm\u001b[0m \u001b[0;34m>\u001b[0m \u001b[0;34m(\u001b[0m\u001b[0mn\u001b[0m\u001b[0;34m/\u001b[0m\u001b[0;36m2\u001b[0m\u001b[0;34m)\u001b[0m\u001b[0;34m:\u001b[0m\u001b[0;34m\u001b[0m\u001b[0;34m\u001b[0m\u001b[0m\n\u001b[0;32m---> 41\u001b[0;31m         \u001b[0mci\u001b[0m \u001b[0;34m=\u001b[0m \u001b[0mtau_twoside_less_treated\u001b[0m\u001b[0;34m(\u001b[0m\u001b[0mn01\u001b[0m\u001b[0;34m,\u001b[0m \u001b[0mn00\u001b[0m\u001b[0;34m,\u001b[0m \u001b[0mn11\u001b[0m\u001b[0;34m,\u001b[0m \u001b[0mn10\u001b[0m\u001b[0;34m,\u001b[0m \u001b[0malpha\u001b[0m\u001b[0;34m,\u001b[0m \u001b[0mreps\u001b[0m\u001b[0;34m)\u001b[0m\u001b[0;34m\u001b[0m\u001b[0;34m\u001b[0m\u001b[0m\n\u001b[0m\u001b[1;32m     42\u001b[0m         \u001b[0mtau_lower\u001b[0m \u001b[0;34m=\u001b[0m \u001b[0;34m-\u001b[0m\u001b[0mci\u001b[0m\u001b[0;34m[\u001b[0m\u001b[0;34m\"tau_upper\"\u001b[0m\u001b[0;34m]\u001b[0m\u001b[0;34m\u001b[0m\u001b[0;34m\u001b[0m\u001b[0m\n\u001b[1;32m     43\u001b[0m         \u001b[0mtau_upper\u001b[0m \u001b[0;34m=\u001b[0m \u001b[0;34m-\u001b[0m\u001b[0mci\u001b[0m\u001b[0;34m[\u001b[0m\u001b[0;34m\"tau_lower\"\u001b[0m\u001b[0;34m]\u001b[0m\u001b[0;34m\u001b[0m\u001b[0;34m\u001b[0m\u001b[0m\n",
      "\u001b[0;32m<ipython-input-10-187f222495a6>\u001b[0m in \u001b[0;36mtau_twoside_less_treated\u001b[0;34m(n11, n10, n01, n00, alpha, nperm)\u001b[0m\n\u001b[1;32m      7\u001b[0m         \u001b[0mZ_all\u001b[0m \u001b[0;34m=\u001b[0m \u001b[0mcomb\u001b[0m\u001b[0;34m(\u001b[0m\u001b[0mn\u001b[0m\u001b[0;34m,\u001b[0m \u001b[0mm\u001b[0m\u001b[0;34m,\u001b[0m \u001b[0mnperm\u001b[0m\u001b[0;34m)\u001b[0m\u001b[0;34m\u001b[0m\u001b[0;34m\u001b[0m\u001b[0m\n\u001b[1;32m      8\u001b[0m \u001b[0;34m\u001b[0m\u001b[0m\n\u001b[0;32m----> 9\u001b[0;31m     \u001b[0mci_lower\u001b[0m \u001b[0;34m=\u001b[0m \u001b[0mtau_twoside_lower\u001b[0m\u001b[0;34m(\u001b[0m\u001b[0mn11\u001b[0m\u001b[0;34m,\u001b[0m \u001b[0mn10\u001b[0m\u001b[0;34m,\u001b[0m \u001b[0mn01\u001b[0m\u001b[0;34m,\u001b[0m \u001b[0mn00\u001b[0m\u001b[0;34m,\u001b[0m \u001b[0malpha\u001b[0m\u001b[0;34m,\u001b[0m \u001b[0mZ_all\u001b[0m\u001b[0;34m)\u001b[0m\u001b[0;34m\u001b[0m\u001b[0;34m\u001b[0m\u001b[0m\n\u001b[0m\u001b[1;32m     10\u001b[0m     \u001b[0mci_upper\u001b[0m \u001b[0;34m=\u001b[0m \u001b[0mtau_twoside_lower\u001b[0m\u001b[0;34m(\u001b[0m\u001b[0mn10\u001b[0m\u001b[0;34m,\u001b[0m \u001b[0mn11\u001b[0m\u001b[0;34m,\u001b[0m \u001b[0mn00\u001b[0m\u001b[0;34m,\u001b[0m \u001b[0mn01\u001b[0m\u001b[0;34m,\u001b[0m \u001b[0malpha\u001b[0m\u001b[0;34m,\u001b[0m \u001b[0mZ_all\u001b[0m\u001b[0;34m)\u001b[0m\u001b[0;34m\u001b[0m\u001b[0;34m\u001b[0m\u001b[0m\n\u001b[1;32m     11\u001b[0m \u001b[0;34m\u001b[0m\u001b[0m\n",
      "\u001b[0;32m<ipython-input-9-ff68e2debe18>\u001b[0m in \u001b[0;36mtau_twoside_lower\u001b[0;34m(n11, n10, n01, n00, alpha, Z_all)\u001b[0m\n\u001b[1;32m     14\u001b[0m         \u001b[0;32mif\u001b[0m \u001b[0mlen\u001b[0m\u001b[0;34m(\u001b[0m\u001b[0mlist\u001b[0m\u001b[0;34m(\u001b[0m\u001b[0mN01_vec0\u001b[0m\u001b[0;34m)\u001b[0m\u001b[0;34m)\u001b[0m \u001b[0;34m==\u001b[0m \u001b[0;36m0\u001b[0m\u001b[0;34m:\u001b[0m\u001b[0;34m\u001b[0m\u001b[0;34m\u001b[0m\u001b[0m\n\u001b[1;32m     15\u001b[0m             \u001b[0;32mbreak\u001b[0m\u001b[0;34m\u001b[0m\u001b[0;34m\u001b[0m\u001b[0m\n\u001b[0;32m---> 16\u001b[0;31m         \u001b[0mtau_min_N11\u001b[0m \u001b[0;34m=\u001b[0m \u001b[0mtau_lower_N11_twoside\u001b[0m\u001b[0;34m(\u001b[0m\u001b[0mn11\u001b[0m\u001b[0;34m,\u001b[0m \u001b[0mn10\u001b[0m\u001b[0;34m,\u001b[0m \u001b[0mn01\u001b[0m\u001b[0;34m,\u001b[0m \u001b[0mn00\u001b[0m\u001b[0;34m,\u001b[0m \u001b[0mN11\u001b[0m\u001b[0;34m,\u001b[0m \u001b[0mZ_all\u001b[0m\u001b[0;34m,\u001b[0m \u001b[0malpha\u001b[0m\u001b[0;34m)\u001b[0m\u001b[0;34m\u001b[0m\u001b[0;34m\u001b[0m\u001b[0m\n\u001b[0m\u001b[1;32m     17\u001b[0m         \u001b[0;31m# assumes that tau_lower_N11_twoside output is a dictionary\u001b[0m\u001b[0;34m\u001b[0m\u001b[0;34m\u001b[0m\u001b[0;34m\u001b[0m\u001b[0m\n\u001b[1;32m     18\u001b[0m         \u001b[0mrand_test_total\u001b[0m \u001b[0;34m=\u001b[0m \u001b[0mrand_test_total\u001b[0m \u001b[0;34m+\u001b[0m \u001b[0mtau_min_N11\u001b[0m\u001b[0;34m[\u001b[0m\u001b[0;34m\"rand_test_num\"\u001b[0m\u001b[0;34m]\u001b[0m\u001b[0;34m\u001b[0m\u001b[0;34m\u001b[0m\u001b[0m\n",
      "\u001b[0;32m<ipython-input-21-d06305c2502b>\u001b[0m in \u001b[0;36mtau_lower_N11_twoside\u001b[0;34m(n11, n10, n01, n00, N11, Z_all, alpha)\u001b[0m\n\u001b[1;32m     78\u001b[0m         \u001b[0maccept_pos\u001b[0m \u001b[0;34m=\u001b[0m \u001b[0mnp\u001b[0m\u001b[0;34m.\u001b[0m\u001b[0mwhere\u001b[0m\u001b[0;34m(\u001b[0m\u001b[0;34m(\u001b[0m\u001b[0mN10_vec\u001b[0m\u001b[0;34m[\u001b[0m\u001b[0mcompat\u001b[0m\u001b[0;34m]\u001b[0m \u001b[0;34m-\u001b[0m \u001b[0mN01_vec\u001b[0m\u001b[0;34m[\u001b[0m\u001b[0mcompat\u001b[0m\u001b[0;34m]\u001b[0m\u001b[0;34m)\u001b[0m \u001b[0;34m==\u001b[0m \u001b[0mn\u001b[0m \u001b[0;34m*\u001b[0m \u001b[0mtau_max\u001b[0m\u001b[0;34m)\u001b[0m\u001b[0;34m\u001b[0m\u001b[0;34m\u001b[0m\u001b[0m\n\u001b[1;32m     79\u001b[0m         \u001b[0maccept_pos\u001b[0m \u001b[0;34m=\u001b[0m \u001b[0maccept_pos\u001b[0m\u001b[0;34m[\u001b[0m\u001b[0;36m0\u001b[0m\u001b[0;34m]\u001b[0m\u001b[0;34m\u001b[0m\u001b[0;34m\u001b[0m\u001b[0m\n\u001b[0;32m---> 80\u001b[0;31m         \u001b[0mN_accept_max\u001b[0m \u001b[0;34m=\u001b[0m \u001b[0mnp\u001b[0m\u001b[0;34m.\u001b[0m\u001b[0marray\u001b[0m\u001b[0;34m(\u001b[0m\u001b[0;34m[\u001b[0m\u001b[0mN11\u001b[0m\u001b[0;34m,\u001b[0m \u001b[0mN10_vec\u001b[0m\u001b[0;34m[\u001b[0m\u001b[0mcompat\u001b[0m\u001b[0;34m]\u001b[0m\u001b[0;34m[\u001b[0m\u001b[0maccept_pos\u001b[0m\u001b[0;34m]\u001b[0m\u001b[0;34m[\u001b[0m\u001b[0;36m0\u001b[0m\u001b[0;34m]\u001b[0m\u001b[0;34m,\u001b[0m \u001b[0mN01_vec\u001b[0m\u001b[0;34m[\u001b[0m\u001b[0mcompat\u001b[0m\u001b[0;34m]\u001b[0m\u001b[0;34m[\u001b[0m\u001b[0maccept_pos\u001b[0m\u001b[0;34m]\u001b[0m\u001b[0;34m[\u001b[0m\u001b[0;36m0\u001b[0m\u001b[0;34m]\u001b[0m\u001b[0;34m,\u001b[0m \u001b[0mn\u001b[0m\u001b[0;34m-\u001b[0m\u001b[0;34m(\u001b[0m\u001b[0mN11\u001b[0m\u001b[0;34m+\u001b[0m\u001b[0mN10_vec\u001b[0m\u001b[0;34m[\u001b[0m\u001b[0mcompat\u001b[0m\u001b[0;34m]\u001b[0m\u001b[0;34m[\u001b[0m\u001b[0maccept_pos\u001b[0m\u001b[0;34m]\u001b[0m\u001b[0;34m+\u001b[0m\u001b[0mN01_vec\u001b[0m\u001b[0;34m[\u001b[0m\u001b[0mcompat\u001b[0m\u001b[0;34m]\u001b[0m\u001b[0;34m[\u001b[0m\u001b[0maccept_pos\u001b[0m\u001b[0;34m]\u001b[0m\u001b[0;34m)\u001b[0m\u001b[0;34m[\u001b[0m\u001b[0;36m0\u001b[0m\u001b[0;34m]\u001b[0m\u001b[0;34m]\u001b[0m\u001b[0;34m)\u001b[0m\u001b[0;34m\u001b[0m\u001b[0;34m\u001b[0m\u001b[0m\n\u001b[0m\u001b[1;32m     81\u001b[0m     \u001b[0;32melse\u001b[0m\u001b[0;34m:\u001b[0m\u001b[0;34m\u001b[0m\u001b[0;34m\u001b[0m\u001b[0m\n\u001b[1;32m     82\u001b[0m         \u001b[0mtau_min\u001b[0m \u001b[0;34m=\u001b[0m \u001b[0mmath\u001b[0m\u001b[0;34m.\u001b[0m\u001b[0minf\u001b[0m\u001b[0;34m\u001b[0m\u001b[0;34m\u001b[0m\u001b[0m\n",
      "\u001b[0;31mIndexError\u001b[0m: index 0 is out of bounds for axis 0 with size 0"
     ]
    }
   ],
   "source": [
    "# Regeneron data from \n",
    "# https://investor.regeneron.com/news-releases/news-release-details/phase-3-prevention-trial-showed-81-reduced-risk-symptomatic-sars\n",
    "n=753\n",
    "m=752\n",
    "N=n+m\n",
    "n01 = 59\n",
    "n11 = 11\n",
    "n00 = m-n01\n",
    "n10 = n-n11\n",
    "\n",
    "tau_twosided_ci(n11, n10, n01, n00, 0.05, exact=False, reps=1)"
   ]
  },
  {
   "cell_type": "code",
   "execution_count": null,
   "metadata": {},
   "outputs": [],
   "source": []
  }
 ],
 "metadata": {
  "kernelspec": {
   "display_name": "Python 3",
   "language": "python",
   "name": "python3"
  },
  "language_info": {
   "codemirror_mode": {
    "name": "ipython",
    "version": 3
   },
   "file_extension": ".py",
   "mimetype": "text/x-python",
   "name": "python",
   "nbconvert_exporter": "python",
   "pygments_lexer": "ipython3",
   "version": "3.8.8"
  }
 },
 "nbformat": 4,
 "nbformat_minor": 4
}
