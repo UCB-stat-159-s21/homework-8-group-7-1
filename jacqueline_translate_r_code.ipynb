{
 "cells": [
  {
   "cell_type": "code",
   "execution_count": 4,
   "metadata": {},
   "outputs": [],
   "source": [
    "import numpy as np"
   ]
  },
  {
   "cell_type": "code",
   "execution_count": 44,
   "metadata": {},
   "outputs": [],
   "source": [
    "def comb(n, m, nperm):\n",
    "    trt = np.zeros((nperm,m), dtype=int)\n",
    "    for i in np.arange(0, nperm):\n",
    "        trt[i,] = np.random.choice(n, size=m, replace=False)\n",
    "\n",
    "    Z = np.zeros((nperm,n))\n",
    "    for i in np.arange(0, nperm):\n",
    "        Z[i,trt[i,]] = 1\n",
    "        Z[i,-trt[i,]] = 0\n",
    "\n",
    "    return Z"
   ]
  }
 ],
 "metadata": {
  "kernelspec": {
   "display_name": "Python 3",
   "language": "python",
   "name": "python3"
  },
  "language_info": {
   "codemirror_mode": {
    "name": "ipython",
    "version": 3
   },
   "file_extension": ".py",
   "mimetype": "text/x-python",
   "name": "python",
   "nbconvert_exporter": "python",
   "pygments_lexer": "ipython3",
   "version": "3.8.8"
  }
 },
 "nbformat": 4,
 "nbformat_minor": 4
}
