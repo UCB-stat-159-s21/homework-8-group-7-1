{
 "cells": [
  {
   "cell_type": "code",
   "execution_count": 1,
   "metadata": {},
   "outputs": [],
   "source": [
    "import numpy as np\n",
    "import scipy.special"
   ]
  },
  {
   "cell_type": "code",
   "execution_count": 19,
   "metadata": {},
   "outputs": [],
   "source": [
    "def comb(n, m, nperm):\n",
    "    trt = np.zeros((nperm,m), dtype=int)\n",
    "    for i in np.arange(0, nperm):\n",
    "        trt[i,] = np.random.choice(n, size=m, replace=False)\n",
    "\n",
    "    Z = np.zeros((nperm,n), dtype=int)\n",
    "    \n",
    "    for i in np.arange(0, nperm):\n",
    "        Z[i,trt[i,]] = 1\n",
    "        Z[i,(~np.in1d(np.arange(Z.shape[1]), trt[i,])).nonzero()] = 0\n",
    "\n",
    "    return Z"
   ]
  },
  {
   "cell_type": "code",
   "execution_count": 16,
   "metadata": {},
   "outputs": [],
   "source": [
    "def tau_twoside_less_treated(n11, n10, n01, n00, alpha, nperm):\n",
    "    n = n11 + n10 + n01 + n00\n",
    "    m = n11 + n10\n",
    "    if scipy.special.comb(n, m, exact=True) <= nperm:\n",
    "        Z_all = nchoosem(n, m)\n",
    "    else:\n",
    "        Z_all = comb(n, m, nperm)\n",
    "    \n",
    "    ci_lower = tau_twoside_lower(n11, n10, n01, n00, alpha, Z_all)\n",
    "    ci_upper = tau_twoside_lower(n10, n11, n00, n01, alpha, Z_all)\n",
    "\n",
    "    # this implementation depends on tau_twoside_lower returning a dictionary\n",
    "    rand_test_total = ci_lower[\"rand_test_total\"] + ci_upper[\"rand_test_total\"]\n",
    "\n",
    "\n",
    "    tau_lower = min(ci_lower[\"tau_lower\"], -1 * ci_upper[\"tau_upper\"])\n",
    "    tau_upper = max(ci_lower[\"tau_upper\"], -1 * ci_upper[\"tau_lower\"])\n",
    "\n",
    "\n",
    "    if tau_lower == ci_lower[\"tau_lower\"]:\n",
    "        N_accept_lower = ci_lower[\"N_accept_lower\"]\n",
    "    else:\n",
    "        # reverse N_accept_upper\n",
    "        N_accept_lower = np.flipud(ci_upper[\"N_accept_upper\"])\n",
    "\n",
    "    if tau_upper == -1 * ci_upper[\"tau_lower\"]:\n",
    "        # reverse N_accept_lower\n",
    "        N_accept_upper = np.flipud(ci_upper[\"N_accept_lower\"])\n",
    "    else:\n",
    "        N_accept_upper = ci_lower[\"N_accept_upper\"]\n",
    "\n",
    "    return {\"tau_lower\": tau_lower, \"tau_upper\": tau_upper,  \"N_accept_lower\": N_accept_lower, \"N_accept_upper\": N_accept_upper, \"rand_test_total\": rand_test_total}"
   ]
  },
  {
   "cell_type": "code",
   "execution_count": 4,
   "metadata": {},
   "outputs": [],
   "source": [
    "def tau_twoside(n11, n10, n01, n00, alpha, nperm):\n",
    "    n = n11 + n10 + n01 + n00\n",
    "    m = n11 + n10\n",
    "    if m > (n/2):\n",
    "        ci = tau_twoside_less_treated(n01, n00, n11, n10, alpha, nperm)\n",
    "        tau_lower = -ci[\"tau_upper\"] \n",
    "        tau_upper = -ci[\"tau_lower\"]\n",
    "        N_accept_lower = ci[\"N_accept_lower\"][[0, 2, 1, 3]]\n",
    "        N_accept_upper = ci[\"N_accept_upper\"][[0, 2, 1, 3]]\n",
    "        rand_test_total = ci[\"rand_test_total\"]\n",
    "    else:\n",
    "        ci = tau_twoside_less_treated(n11, n10, n01, n00, alpha, nperm)\n",
    "        tau_lower = ci[\"tau_lower\"]\n",
    "        tau_upper = ci[\"tau_upper\"]  \n",
    "        N_accept_lower = ci[\"N_accept_lower\"]\n",
    "        N_accept_upper = ci[\"N_accept_upper\"]\n",
    "        rand_test_total = ci[\"rand_test_total\"]\n",
    "\n",
    "    return {\"tau_lower\": tau_lower, \"tau_upper\": tau_upper, \"N_accept_lower\": N_accept_lower, \"N_accept_upper\": N_accept_upper, \"rand_test_total\": rand_test_total}"
   ]
  }
 ],
 "metadata": {
  "kernelspec": {
   "display_name": "Python 3",
   "language": "python",
   "name": "python3"
  },
  "language_info": {
   "codemirror_mode": {
    "name": "ipython",
    "version": 3
   },
   "file_extension": ".py",
   "mimetype": "text/x-python",
   "name": "python",
   "nbconvert_exporter": "python",
   "pygments_lexer": "ipython3",
   "version": "3.8.8"
  }
 },
 "nbformat": 4,
 "nbformat_minor": 4
}
