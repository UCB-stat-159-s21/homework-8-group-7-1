{
 "cells": [
  {
   "cell_type": "code",
   "execution_count": 1,
   "metadata": {},
   "outputs": [],
   "source": [
    "import math\n",
    "import numpy as np\n",
    "import scipy as sp\n",
    "from itertools import filterfalse\n",
    "from itertools import combinations"
   ]
  },
  {
   "cell_type": "code",
   "execution_count": 2,
   "metadata": {},
   "outputs": [],
   "source": [
    "def calculate_tstar(n11, n01, n, N):\n",
    "    \"\"\"blurb here.\n",
    "    \"\"\"\n",
    "\n",
    "    return n11/n - n01/(N-n)"
   ]
  },
  {
   "cell_type": "code",
   "execution_count": 4,
   "metadata": {},
   "outputs": [],
   "source": [
    "def calculate_tN(N01, N10, N):\n",
    "    \"\"\"blurb here.\"\"\"\n",
    "    return (N01 - N10) / N"
   ]
  },
  {
   "cell_type": "code",
   "execution_count": 5,
   "metadata": {},
   "outputs": [],
   "source": [
    "def filterTable(Nt, n00, n01, n10, n11):\n",
    "    '''\n",
    "    check whether summary table Nt of binary outcomes is consistent with observed counts\n",
    "    \n",
    "    implements the test in Theorem 1 of Li and Ding (2016)\n",
    "    \n",
    "    Parameters:\n",
    "    ----------\n",
    "    Nt : list of four ints\n",
    "        the table of counts of subjects with each combination of potential outcomes, in the order\n",
    "        N_00, N_01, N_10, N_11\n",
    "       \n",
    "    n01 : int\n",
    "        number of subjects assigned to control whose observed response was 1\n",
    "\n",
    "    n11 : int\n",
    "        number of subjects assigned to treatment whose observed response was 1\n",
    "        \n",
    "    Returns:\n",
    "    --------\n",
    "    ok : boolean\n",
    "        True if table is consistent with the data\n",
    "    '''\n",
    "    N = np.sum(Nt)   # total subjects\n",
    "    return max(0,n11-Nt[2], Nt[3]-n01, Nt[2]+Nt[3]-n10-n01) <= min(Nt[3], n11, Nt[2]+Nt[3]-n01, N-Nt[2]-n01-n10)"
   ]
  },
  {
   "cell_type": "code",
   "execution_count": 6,
   "metadata": {},
   "outputs": [],
   "source": [
    "def N_generator(N, n00, n01, n10, n11):\n",
    "    ''' \n",
    "    generate tables algebraically consistent with data from an experiment with binary outcomes\n",
    "    \n",
    "    Parameters\n",
    "    ----------\n",
    "    N : int\n",
    "        number of subjects\n",
    "    n00 : int\n",
    "        number of subjects assigned to treatment 0 who had outcome 0\n",
    "    n01 : int\n",
    "        number of subjects assigned to treatment 0 who had outcome 0\n",
    "    n10 : int\n",
    "        number of subjects assigned to treatment 1 who had outcome 0\n",
    "    n11 : int\n",
    "        number of subjects assigned to treatment 1 who had outcome 1\n",
    "    \n",
    "    Returns\n",
    "    -------\n",
    "    Nt : list of 4 ints \n",
    "        N00, subjects with potential outcome 0 under treatments 0 and 1\n",
    "        N01, subjects with potential outcome 0 under treatment 0 and 1 under treatment 1\n",
    "        N10, subjects with potential outcome 1 under treatment 0 and 0 under treatment 1\n",
    "        N11, subjects with potential outcome 1 under treatments 0 and 1\n",
    "    '''\n",
    "    for i in range(min(N-n00, N-n10)+1):               # allocate space for the observed 0 outcomes, n00 and n10\n",
    "        N11 = i                                           \n",
    "        for j in range(max(0, n01-N11), N-n00-N11):    # N11+N10 >= n01; N11+N10+n00 <= N\n",
    "            N10 = j                                        \n",
    "            for k in range(max(0, n11-N11), min(N-n10-N11, N-N11-N10)): \n",
    "                                                       # N11+N01 >= n11; N11+N01+n10 <= N; no more than N subjects\n",
    "                N01 = k                                  \n",
    "                N00 = N-N11-N10-N01                  \n",
    "                if filterTable([N00, N01, N10, N11], n00, n01, n10, n11):\n",
    "                    yield [N00, N01, N10, N11]\n",
    "                else:\n",
    "                    pass"
   ]
  },
  {
   "cell_type": "code",
   "execution_count": 7,
   "metadata": {},
   "outputs": [],
   "source": [
    "def potential_outcomes(Nt):\n",
    "    '''\n",
    "    make a 2xN table of potential outcomes from the 2x2 summary table Nt\n",
    "    \n",
    "    Parameters\n",
    "    ----------   \n",
    "    Nt : list of 4 ints\n",
    "        N00, N01, N10, N11\n",
    "    \n",
    "    Returns\n",
    "    -------\n",
    "    po : Nx2 table of potential outcomes consistent with Nt\n",
    "    '''\n",
    "    return np.reshape(np.array([0,0]*Nt[0]+[0,1]*Nt[1]+[1,0]*Nt[2]+[1,1]*Nt[3]), [-1,2])"
   ]
  },
  {
   "cell_type": "code",
   "execution_count": 8,
   "metadata": {},
   "outputs": [],
   "source": [
    "# original tau_twosided we made\n",
    "def tau_twosided_ci(n11, n10, n01, n00, alpha):\n",
    "    \"\"\"blurb here\"\"\"\n",
    "    N = n11 + n10 + n01 + n00\n",
    "    n = n10 + n11\n",
    "    generate = [Nt for Nt in N_generator(N, n00, n01, n10, n11)]\n",
    "    tN = []\n",
    "    tau_star = calculate_tstar(n11, n01, n, N)\n",
    "    \n",
    "    confidence_set = []\n",
    "    arr = []\n",
    "    \n",
    "    for i in generate:\n",
    "        tN = calculate_tN(i[1], i[2], N)\n",
    "        t = abs(tau_star - tN)\n",
    "        rows = potential_outcomes(i)\n",
    "        stats = []\n",
    "        # exact = True\n",
    "        combs = combinations(rows, n)\n",
    "#         if combos >= max_combinations:\n",
    "        for j in combs:\n",
    "            x_0 = np.sum(j, axis = 0)[0]\n",
    "            x_1 = np.sum(j, axis = 0)[1]\n",
    "            tau_hat = (x_1/n) - (x_0/(N-n))\n",
    "            stat = abs(tau_hat - tN)\n",
    "            stats.append(stat)\n",
    "#             print(stat)\n",
    "        maximum = np.percentile(stats, 100*(1-alpha))\n",
    "        \n",
    "        if t > maximum:\n",
    "            pass\n",
    "        else:\n",
    "            confidence_set.append(tN)\n",
    "            \n",
    "    ci_upper = max(confidence_set)\n",
    "    ci_lower = min(confidence_set)\n",
    "    return np.array([ci_lower, ci_upper])\n",
    "    \n"
   ]
  },
  {
   "cell_type": "code",
   "execution_count": 9,
   "metadata": {},
   "outputs": [
    {
     "data": {
      "text/plain": [
       "array([-1., 13.])"
      ]
     },
     "execution_count": 9,
     "metadata": {},
     "output_type": "execute_result"
    }
   ],
   "source": [
    "tau_twosided_ci(1, 1, 1, 13, .05) * 16"
   ]
  },
  {
   "cell_type": "code",
   "execution_count": 24,
   "metadata": {},
   "outputs": [
    {
     "data": {
      "text/plain": [
       "array([-3., 14.])"
      ]
     },
     "execution_count": 24,
     "metadata": {},
     "output_type": "execute_result"
    }
   ],
   "source": [
    "tau_twosided_ci(1, 1, 3, 19, .05) * 24"
   ]
  },
  {
   "cell_type": "code",
   "execution_count": 16,
   "metadata": {},
   "outputs": [
    {
     "ename": "ValueError",
     "evalue": "max() arg is an empty sequence",
     "output_type": "error",
     "traceback": [
      "\u001b[0;31m---------------------------------------------------------------------------\u001b[0m",
      "\u001b[0;31mValueError\u001b[0m                                Traceback (most recent call last)",
      "\u001b[0;32m<ipython-input-16-bb1fe0adb2b3>\u001b[0m in \u001b[0;36m<module>\u001b[0;34m\u001b[0m\n\u001b[0;32m----> 1\u001b[0;31m \u001b[0mtau_twosided_ci\u001b[0m\u001b[0;34m(\u001b[0m\u001b[0;36m2\u001b[0m\u001b[0;34m,\u001b[0m \u001b[0;36m6\u001b[0m\u001b[0;34m,\u001b[0m\u001b[0;36m8\u001b[0m\u001b[0;34m,\u001b[0m\u001b[0;36m0\u001b[0m\u001b[0;34m,\u001b[0m \u001b[0;36m.05\u001b[0m\u001b[0;34m)\u001b[0m \u001b[0;34m*\u001b[0m \u001b[0;36m16\u001b[0m\u001b[0;34m\u001b[0m\u001b[0;34m\u001b[0m\u001b[0m\n\u001b[0m",
      "\u001b[0;32m<ipython-input-12-cfa33d4e3d68>\u001b[0m in \u001b[0;36mtau_twosided_ci\u001b[0;34m(n11, n10, n01, n00, alpha)\u001b[0m\n\u001b[1;32m     33\u001b[0m             \u001b[0mconfidence_set\u001b[0m\u001b[0;34m.\u001b[0m\u001b[0mappend\u001b[0m\u001b[0;34m(\u001b[0m\u001b[0mtN\u001b[0m\u001b[0;34m)\u001b[0m\u001b[0;34m\u001b[0m\u001b[0;34m\u001b[0m\u001b[0m\n\u001b[1;32m     34\u001b[0m \u001b[0;34m\u001b[0m\u001b[0m\n\u001b[0;32m---> 35\u001b[0;31m     \u001b[0mci_upper\u001b[0m \u001b[0;34m=\u001b[0m \u001b[0mmax\u001b[0m\u001b[0;34m(\u001b[0m\u001b[0mconfidence_set\u001b[0m\u001b[0;34m)\u001b[0m\u001b[0;34m\u001b[0m\u001b[0;34m\u001b[0m\u001b[0m\n\u001b[0m\u001b[1;32m     36\u001b[0m     \u001b[0mci_lower\u001b[0m \u001b[0;34m=\u001b[0m \u001b[0mmin\u001b[0m\u001b[0;34m(\u001b[0m\u001b[0mconfidence_set\u001b[0m\u001b[0;34m)\u001b[0m\u001b[0;34m\u001b[0m\u001b[0;34m\u001b[0m\u001b[0m\n\u001b[1;32m     37\u001b[0m     \u001b[0;32mreturn\u001b[0m \u001b[0mnp\u001b[0m\u001b[0;34m.\u001b[0m\u001b[0marray\u001b[0m\u001b[0;34m(\u001b[0m\u001b[0;34m[\u001b[0m\u001b[0mci_lower\u001b[0m\u001b[0;34m,\u001b[0m \u001b[0mci_upper\u001b[0m\u001b[0;34m]\u001b[0m\u001b[0;34m)\u001b[0m\u001b[0;34m\u001b[0m\u001b[0;34m\u001b[0m\u001b[0m\n",
      "\u001b[0;31mValueError\u001b[0m: max() arg is an empty sequence"
     ]
    }
   ],
   "source": [
    "tau_twosided_ci(2, 6,8,0, .05) * 16"
   ]
  },
  {
   "cell_type": "code",
   "execution_count": null,
   "metadata": {},
   "outputs": [],
   "source": [
    "tau_twosided_ci(8,4,5,7, .05) * 24"
   ]
  },
  {
   "cell_type": "code",
   "execution_count": null,
   "metadata": {},
   "outputs": [],
   "source": [
    "# Hypothetical experiment\n",
    "N = 10\n",
    "n = 5\n",
    "n00 = 3\n",
    "n01 = 2\n",
    "n10 = 1\n",
    "n11 = 4\n",
    "[Nt for Nt in N_generator(N, n00, n01, n10, n11)]\n"
   ]
  },
  {
   "cell_type": "code",
   "execution_count": null,
   "metadata": {},
   "outputs": [],
   "source": [
    "# test\n",
    "Nt = [5, 4, 3, 2]\n",
    "p = potential_outcomes(Nt)\n",
    "p"
   ]
  },
  {
   "cell_type": "code",
   "execution_count": 83,
   "metadata": {},
   "outputs": [],
   "source": [
    "n=753\n",
    "m=752\n",
    "N=n+m\n",
    "n01 = 59\n",
    "n11 = 11\n",
    "n00 = m-n01\n",
    "n10 = n-n11"
   ]
  },
  {
   "cell_type": "code",
   "execution_count": null,
   "metadata": {},
   "outputs": [],
   "source": [
    "tau_twosided_ci(n11, n10, n01, n00, .05)"
   ]
  },
  {
   "cell_type": "code",
   "execution_count": 12,
   "metadata": {},
   "outputs": [
    {
     "data": {
      "text/plain": [
       "array([-1., 11.])"
      ]
     },
     "execution_count": 12,
     "metadata": {},
     "output_type": "execute_result"
    }
   ],
   "source": [
    "tau_twosided_ci(1, 1, 1, 13, .05) * 16"
   ]
  },
  {
   "cell_type": "code",
   "execution_count": null,
   "metadata": {},
   "outputs": [],
   "source": []
  },
  {
   "cell_type": "code",
   "execution_count": null,
   "metadata": {},
   "outputs": [],
   "source": []
  }
 ],
 "metadata": {
  "kernelspec": {
   "display_name": "Python 3",
   "language": "python",
   "name": "python3"
  },
  "language_info": {
   "codemirror_mode": {
    "name": "ipython",
    "version": 3
   },
   "file_extension": ".py",
   "mimetype": "text/x-python",
   "name": "python",
   "nbconvert_exporter": "python",
   "pygments_lexer": "ipython3",
   "version": "3.8.8"
  }
 },
 "nbformat": 4,
 "nbformat_minor": 4
}
