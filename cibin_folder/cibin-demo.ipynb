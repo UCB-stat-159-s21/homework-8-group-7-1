{
 "cells": [
  {
   "cell_type": "markdown",
   "metadata": {},
   "source": [
    "# `cibin` Demo"
   ]
  },
  {
   "cell_type": "code",
   "execution_count": 9,
   "metadata": {},
   "outputs": [],
   "source": [
    "import sys\n",
    "sys.path.append('./cibin_folder')\n",
    "from cibin import *"
   ]
  },
  {
   "cell_type": "markdown",
   "metadata": {},
   "source": [
    "## Reproducing column “3” of table I in the [Li and Ding paper](https://onlinelibrary.wiley.com/doi/abs/10.1002/sim.6764)"
   ]
  },
  {
   "cell_type": "markdown",
   "metadata": {},
   "source": [
    "### $n$ (1, 1, 1, 13)\n",
    "* Expected bounds: [-1, 14]\n",
    "* Expected `rand_test_total`: 103"
   ]
  },
  {
   "cell_type": "code",
   "execution_count": 2,
   "metadata": {},
   "outputs": [
    {
     "data": {
      "text/plain": [
       "([-1.0, 14.0],\n",
       " [array([ 1.,  0.,  1., 14.]), array([ 1., 14.,  0.,  1.])],\n",
       " [103, 120])"
      ]
     },
     "execution_count": 2,
     "metadata": {},
     "output_type": "execute_result"
    }
   ],
   "source": [
    "tau_twosided_ci(1, 1, 1, 13, .05, exact=True)"
   ]
  },
  {
   "cell_type": "markdown",
   "metadata": {},
   "source": [
    "### $n$ (2, 6, 8, 0)\n",
    "* Expected bounds: [-14, 5]\n",
    "* Expected `rand_test_total`: 113"
   ]
  },
  {
   "cell_type": "code",
   "execution_count": 10,
   "metadata": {},
   "outputs": [
    {
     "data": {
      "text/plain": [
       "([-14.0, -5.0],\n",
       " [array([ 2.,  0., 14.,  0.]), array([8., 0., 5., 3.])],\n",
       " [113, 12870])"
      ]
     },
     "execution_count": 10,
     "metadata": {},
     "output_type": "execute_result"
    }
   ],
   "source": [
    "tau_twosided_ci(2, 6, 8, 0, .05, exact=True)"
   ]
  },
  {
   "cell_type": "markdown",
   "metadata": {},
   "source": [
    "### $n$ (6, 0, 11, 3)\n",
    "* Expected bounds: [-4, 8]\n",
    "* Expected `rand_test_total`: 283"
   ]
  },
  {
   "cell_type": "code",
   "execution_count": 11,
   "metadata": {},
   "outputs": [
    {
     "data": {
      "text/plain": [
       "([-4.0, 8.0],\n",
       " [array([13.,  0.,  4.,  3.]), array([11.,  8.,  0.,  1.])],\n",
       " [283, 38760])"
      ]
     },
     "execution_count": 11,
     "metadata": {},
     "output_type": "execute_result"
    }
   ],
   "source": [
    "tau_twosided_ci(6, 0, 11, 3, .05, exact=True)"
   ]
  },
  {
   "cell_type": "markdown",
   "metadata": {},
   "source": [
    "### $n$ (6, 4, 4, 6)\n",
    "* Expected bounds: [-4, 10]\n",
    "* Expected `rand_test_total`: 308"
   ]
  },
  {
   "cell_type": "code",
   "execution_count": 12,
   "metadata": {},
   "outputs": [
    {
     "data": {
      "text/plain": [
       "([-4.0, 10.0],\n",
       " [array([5., 1., 5., 9.]), array([ 5., 11.,  1.,  3.])],\n",
       " [308, 184756])"
      ]
     },
     "execution_count": 12,
     "metadata": {},
     "output_type": "execute_result"
    }
   ],
   "source": [
    "tau_twosided_ci(6, 4, 4, 6, .05, exact=True, max_combinations=10**6)"
   ]
  },
  {
   "cell_type": "markdown",
   "metadata": {},
   "source": [
    "### $n$ (1, 1, 3, 19)\n",
    "* Expected bounds: [-3, 20]\n",
    "* Expected `rand_test_total`: 251"
   ]
  },
  {
   "cell_type": "code",
   "execution_count": 14,
   "metadata": {},
   "outputs": [
    {
     "data": {
      "text/plain": [
       "([-3.0, 20.0],\n",
       " [array([ 1.,  0.,  3., 20.]), array([ 3., 20.,  0.,  1.])],\n",
       " [251, 276])"
      ]
     },
     "execution_count": 14,
     "metadata": {},
     "output_type": "execute_result"
    }
   ],
   "source": [
    "tau_twosided_ci(1, 1, 3, 19, .05, exact=True)"
   ]
  },
  {
   "cell_type": "markdown",
   "metadata": {},
   "source": [
    "### $n$ (8, 4, 5, 7)\n",
    "* Expected bounds: [-3, 13]\n",
    "* Expected `rand_test_total`: 421"
   ]
  },
  {
   "cell_type": "code",
   "execution_count": 3,
   "metadata": {},
   "outputs": [
    {
     "data": {
      "text/plain": [
       "([-4.0, 13.0],\n",
       " [array([ 9.,  0.,  4., 11.]), array([ 6., 14.,  1.,  3.])],\n",
       " [421, 1000])"
      ]
     },
     "execution_count": 3,
     "metadata": {},
     "output_type": "execute_result"
    }
   ],
   "source": [
    "tau_twosided_ci(8, 4, 5, 7, .05, exact=False)"
   ]
  },
  {
   "cell_type": "markdown",
   "metadata": {},
   "source": [
    "## Regeneron Data"
   ]
  },
  {
   "cell_type": "code",
   "execution_count": 4,
   "metadata": {},
   "outputs": [],
   "source": [
    "# Regeneron data from \n",
    "# https://investor.regeneron.com/news-releases/news-release-details/phase-3-prevention-trial-showed-81-reduced-risk-symptomatic-sars\n",
    "n=753\n",
    "m=752\n",
    "N=n+m\n",
    "n01 = 59\n",
    "n11 = 11\n",
    "n00 = m-n01\n",
    "n10 = n-n11"
   ]
  },
  {
   "cell_type": "code",
   "execution_count": 3,
   "metadata": {},
   "outputs": [
    {
     "data": {
      "text/plain": [
       "([-149.0, -44.0],\n",
       " [array([ 69., 361., 405., 670.]), array([ 66., 198., 347., 894.])],\n",
       " [1097786, 100])"
      ]
     },
     "execution_count": 3,
     "metadata": {},
     "output_type": "execute_result"
    }
   ],
   "source": [
    "tau_twosided_ci(n11, n10, n01, n00, 0.05, exact=False, reps=100)"
   ]
  },
  {
   "cell_type": "markdown",
   "metadata": {},
   "source": [
    "## `pycodestyle` and `pep257`"
   ]
  },
  {
   "cell_type": "code",
   "execution_count": 6,
   "metadata": {},
   "outputs": [],
   "source": [
    "%%bash\n",
    "pycodestyle cibin.py # \"./cibin_folder/cibin.py\""
   ]
  },
  {
   "cell_type": "code",
   "execution_count": 7,
   "metadata": {},
   "outputs": [],
   "source": [
    "%%bash\n",
    "pep257 cibin.py #\"./cibin_folder/cibin.py\""
   ]
  },
  {
   "cell_type": "markdown",
   "metadata": {},
   "source": [
    "## Unit Tests"
   ]
  },
  {
   "cell_type": "code",
   "execution_count": 8,
   "metadata": {},
   "outputs": [
    {
     "name": "stdout",
     "output_type": "stream",
     "text": [
      "============================= test session starts ==============================\n",
      "platform linux -- Python 3.8.8, pytest-6.2.3, py-1.10.0, pluggy-0.13.1\n",
      "rootdir: /home/jovyan/hw/homework-8-group-7-1/cibin_folder\n",
      "plugins: cov-2.11.1, anyio-2.2.0\n",
      "collected 12 items\n",
      "\n",
      "test_cibin.py ............                                               [100%]\n",
      "\n",
      "============================== 12 passed in 2.20s ==============================\n"
     ]
    }
   ],
   "source": [
    "%%bash\n",
    "pytest test_cibin.py"
   ]
  }
 ],
 "metadata": {
  "kernelspec": {
   "display_name": "Python 3",
   "language": "python",
   "name": "python3"
  },
  "language_info": {
   "codemirror_mode": {
    "name": "ipython",
    "version": 3
   },
   "file_extension": ".py",
   "mimetype": "text/x-python",
   "name": "python",
   "nbconvert_exporter": "python",
   "pygments_lexer": "ipython3",
   "version": "3.8.8"
  }
 },
 "nbformat": 4,
 "nbformat_minor": 4
}
