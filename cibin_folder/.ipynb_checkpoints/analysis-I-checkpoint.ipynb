{
 "cells": [
  {
   "cell_type": "markdown",
   "metadata": {},
   "source": [
    "# Analysis I"
   ]
  },
  {
   "cell_type": "code",
   "execution_count": 1,
   "metadata": {},
   "outputs": [],
   "source": [
    "import sys\n",
    "sys.path.append('./cibin_folder')\n",
    "from cibin import *\n",
    "from onesided import *\n",
    "from sterne import *"
   ]
  },
  {
   "cell_type": "markdown",
   "metadata": {},
   "source": [
    "## Regeneron Data"
   ]
  },
  {
   "cell_type": "code",
   "execution_count": 2,
   "metadata": {},
   "outputs": [],
   "source": [
    "# Regeneron data from \n",
    "# https://investor.regeneron.com/news-releases/news-release-details/phase-3-prevention-trial-showed-81-reduced-risk-symptomatic-sars\n",
    "n=753\n",
    "m=752\n",
    "N=n+m\n",
    "n01 = 59\n",
    "n11 = 11\n",
    "n00 = m-n01\n",
    "n10 = n-n11"
   ]
  },
  {
   "cell_type": "markdown",
   "metadata": {},
   "source": [
    "## Find CIs: Method 3"
   ]
  },
  {
   "cell_type": "markdown",
   "metadata": {},
   "source": [
    "Find 95% lower (one-sided) and two-sided confidence intervals for the reduction in risk corresponding to the primary endpoint (data “Through day 29”), using method 3."
   ]
  },
  {
   "cell_type": "markdown",
   "metadata": {},
   "source": [
    "### One-sided"
   ]
  },
  {
   "cell_type": "code",
   "execution_count": 4,
   "metadata": {},
   "outputs": [
    {
     "data": {
      "text/plain": [
       "{'tau_lower': -136.0,\n",
       " 'tau_upper': 704.0,\n",
       " 'N_accept': array([ 70., 398., 534., 503.])}"
      ]
     },
     "execution_count": 4,
     "metadata": {},
     "output_type": "execute_result"
    }
   ],
   "source": [
    "tau_lower_oneside(n11, n10, n01, n00, 0.05, 100)"
   ]
  },
  {
   "cell_type": "markdown",
   "metadata": {},
   "source": [
    "### Two-sided"
   ]
  },
  {
   "cell_type": "code",
   "execution_count": 3,
   "metadata": {},
   "outputs": [
    {
     "data": {
      "text/plain": [
       "([-149.0, -44.0],\n",
       " [array([ 69., 361., 405., 670.]), array([ 66., 198., 347., 894.])],\n",
       " [1097786, 100])"
      ]
     },
     "execution_count": 3,
     "metadata": {},
     "output_type": "execute_result"
    }
   ],
   "source": [
    "tau_twosided_ci(n11, n10, n01, n00, 0.05, exact=False, reps=100)"
   ]
  },
  {
   "cell_type": "markdown",
   "metadata": {},
   "source": [
    "## Find CIs: Bonferroni approach"
   ]
  },
  {
   "cell_type": "markdown",
   "metadata": {},
   "source": [
    "Also use the cruder conservative approach via simultaneous Bonferroni confidence bounds for N⋅1 and N1⋅ described in the notes on causal inference. (For the Bonferroni approach to two-sided intervals, use Sterne’s method for the underlying hypergeometric confidence intervals. Feel free to re-use your own code from the previous problem set.)"
   ]
  },
  {
   "cell_type": "markdown",
   "metadata": {},
   "source": [
    "### One-sided"
   ]
  },
  {
   "cell_type": "markdown",
   "metadata": {},
   "source": [
    "#### Lower\n",
    "\n",
    "To construct a lower 1-sided $1 − \\alpha$ confidence bound for $\\tau$, we can find a lower 1-sided $1 − \\alpha / 2$ confidence bound for $N_{+1}$, subtract an upper 1-sided $1 − \\alpha / 2$ confidence bound for $N_{1+}$, and divide the result by $N$. ([Causal Inference Notes](https://ucb-stat-159-s21.github.io/site/Notes/causal-inference.html))"
   ]
  },
  {
   "cell_type": "code",
   "execution_count": 3,
   "metadata": {},
   "outputs": [],
   "source": [
    "# alpha = 0.05\n",
    "# 1- alpha/2 = 0.975\n",
    "N_plusone = hypergeom_conf_interval(n, n11, N, 0.975, alternative=\"lower\")\n",
    "N_oneplus = hypergeom_conf_interval(m, n01, N, 0.975, alternative=\"upper\")\n",
    "\n",
    "# lower onesided 1-alpha CI\n",
    "lower_one = (N_plusone[0] - N_oneplus[1]) / N"
   ]
  },
  {
   "cell_type": "code",
   "execution_count": 13,
   "metadata": {},
   "outputs": [
    {
     "data": {
      "text/plain": [
       "-0.08571428571428572"
      ]
     },
     "execution_count": 13,
     "metadata": {},
     "output_type": "execute_result"
    }
   ],
   "source": [
    "lower_one"
   ]
  },
  {
   "cell_type": "markdown",
   "metadata": {},
   "source": [
    "#### Upper\n",
    "\n",
    "To construct an upper 1-sided 1−$\\alpha$ confidence bound for $\\tau$, we can find an upper 1-sided 1−$\\alpha$/2 confidence bound for $N_{+1}$, subtract a lower 1-sided 1−$\\alpha$/2 confidence bound for $N_{1+}$, and divide the result by $N$. ([Causal Inference Notes](https://ucb-stat-159-s21.github.io/site/Notes/causal-inference.html))"
   ]
  },
  {
   "cell_type": "code",
   "execution_count": 5,
   "metadata": {},
   "outputs": [],
   "source": [
    "# alpha = 0.05\n",
    "# 1- alpha/2 = 0.975\n",
    "N_plusone = hypergeom_conf_interval(n, n11, N, 0.975, alternative=\"upper\")\n",
    "N_oneplus = hypergeom_conf_interval(m, n01, N, 0.975, alternative=\"lower\")\n",
    "\n",
    "# lower onesided 1-alpha CI\n",
    "upper_one = (N_plusone[1] - N_oneplus[0]) / N"
   ]
  },
  {
   "cell_type": "code",
   "execution_count": 12,
   "metadata": {},
   "outputs": [
    {
     "data": {
      "text/plain": [
       "-0.04318936877076412"
      ]
     },
     "execution_count": 12,
     "metadata": {},
     "output_type": "execute_result"
    }
   ],
   "source": [
    "upper_one"
   ]
  },
  {
   "cell_type": "markdown",
   "metadata": {},
   "source": [
    "### Two-sided\n",
    "\n",
    "To construct a 2-sided confidence interval for $\\tau$, we can find a 2-sided $1 − \\alpha / 2$ confidence bound for $N_{+1}$ and a 2-sided $1 − \\alpha / 2$ confidence bound for $N_{1+}$. The lower endpoint of the $1 − \\alpha$ confidence interval for $\\tau$ is the lower endpoint of the 2-sided interval for $N_{+1}$ minus the upper endpoint of the 2-sided interval for $N_{1+}$, divided by $N$. The upper endpoint of the $1 − \\alpha$ confidence interval for $\\tau$ is the upper endpoint of the 2-sided interval for $N_{+1}$ minus the lower endpoint of the 2-sided interval for $N_{1+}$, divided by $N$. ([Causal Inference Notes](https://ucb-stat-159-s21.github.io/site/Notes/causal-inference.html))"
   ]
  },
  {
   "cell_type": "code",
   "execution_count": 7,
   "metadata": {},
   "outputs": [],
   "source": [
    "N_plusone = hypergeom_conf_interval(n, n11, N, 1-0.05, alternative=\"two-sided\")\n",
    "N_oneplus = hypergeom_conf_interval(m, n01, N, 1-0.05, alternative=\"two-sided\")\n",
    "\n",
    "# two-sided CI\n",
    "lower_two = (N_plusone[0] - N_oneplus[1]) / N\n",
    "upper_two = (N_plusone[1] - N_oneplus[0]) / N"
   ]
  },
  {
   "cell_type": "code",
   "execution_count": 11,
   "metadata": {},
   "outputs": [
    {
     "data": {
      "text/plain": [
       "(-129.0, -65.0)"
      ]
     },
     "execution_count": 11,
     "metadata": {},
     "output_type": "execute_result"
    }
   ],
   "source": [
    "lower_two*N, upper_two*N"
   ]
  },
  {
   "cell_type": "markdown",
   "metadata": {},
   "source": [
    "### Discuss the differences between the two sets of confidence intervals.\n",
    "\n",
    "The Bonferroni method is said to be is said to be \"conceptually simple, conservative, and only requires the ability to compute confidence intervals for $G$ for hypergeometric distributions\" ([Causal Inference Notes](https://ucb-stat-159-s21.github.io/site/Notes/causal-inference.html)). This more conservative approach can result in intervals that are unnecessarily wide. The method 3 from Li and Ding looks at all of the potential outcomes. This means that method 3 requires more memory and time to run. The Bonferroni method is much faster. Still, both methods resulted in confidence intervals in the negative range. This means that they both show that the Regeneron has a significant effect on preventing COVID-19 infection."
   ]
  },
  {
   "cell_type": "markdown",
   "metadata": {},
   "source": [
    "### Is it statistically legitimate to use one-sided confidence intervals? Why or why not?\n",
    "\n",
    "It is statistically legitimate to use one-sided confidence intervals. The approach is more conservative, but it does result in a confidence intervals at confidence level $1 - \\alpha$."
   ]
  },
  {
   "cell_type": "markdown",
   "metadata": {},
   "source": [
    "### Are the two-sided confidence intervals preferable to the one-sided intervals? Why or why not?\n",
    "\n",
    "The two-sided confidence intervals are preferable to the one-sided intervals. We care about if the treatment is effective and if the treatment is ineffective. The one-sided lower shows the effectivenness of the treatment at best. The one-sided upper shows the effectiveness of the treatment at worst. We would prefer all of the information taht the two-sided confidence intervals provide."
   ]
  }
 ],
 "metadata": {
  "kernelspec": {
   "display_name": "Python 3",
   "language": "python",
   "name": "python3"
  },
  "language_info": {
   "codemirror_mode": {
    "name": "ipython",
    "version": 3
   },
   "file_extension": ".py",
   "mimetype": "text/x-python",
   "name": "python",
   "nbconvert_exporter": "python",
   "pygments_lexer": "ipython3",
   "version": "3.8.8"
  }
 },
 "nbformat": 4,
 "nbformat_minor": 4
}
